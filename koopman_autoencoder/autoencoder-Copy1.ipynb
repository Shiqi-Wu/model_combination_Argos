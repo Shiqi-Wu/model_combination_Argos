{
 "cells": [
  {
   "cell_type": "code",
   "execution_count": 1,
   "id": "828d6236",
   "metadata": {},
   "outputs": [
    {
     "data": {
      "text/html": [
       "<style type='text/css'>\n",
       ".CodeMirror{\n",
       "font-size: 22px;\n",
       "</style>\n"
      ],
      "text/plain": [
       "<IPython.core.display.HTML object>"
      ]
     },
     "metadata": {},
     "output_type": "display_data"
    }
   ],
   "source": [
    "%%html\n",
    "<style type='text/css'>\n",
    ".CodeMirror{\n",
    "font-size: 22px;\n",
    "</style>"
   ]
  },
  {
   "cell_type": "code",
   "execution_count": 36,
   "id": "c475b1d5",
   "metadata": {},
   "outputs": [
    {
     "name": "stdout",
     "output_type": "stream",
     "text": [
      "The autoreload extension is already loaded. To reload it, use:\n",
      "  %reload_ext autoreload\n"
     ]
    }
   ],
   "source": [
    "%load_ext autoreload\n",
    "%autoreload 2"
   ]
  },
  {
   "cell_type": "code",
   "execution_count": 37,
   "id": "c071812e",
   "metadata": {},
   "outputs": [],
   "source": [
    "import numpy as np\n",
    "import torch\n",
    "from koopman_autoencoder import *"
   ]
  },
  {
   "cell_type": "code",
   "execution_count": 38,
   "id": "22eed0b3",
   "metadata": {},
   "outputs": [],
   "source": [
    "if torch.cuda.is_available():\n",
    "    device = torch.device('cuda:3')\n",
    "else:\n",
    "    device = torch.device('cpu')"
   ]
  },
  {
   "cell_type": "markdown",
   "id": "a73b8b71",
   "metadata": {},
   "source": [
    "## Load dataset"
   ]
  },
  {
   "cell_type": "code",
   "execution_count": 39,
   "id": "d2c47f74",
   "metadata": {},
   "outputs": [],
   "source": [
    "def build_dataset(data_dict):\n",
    "    time = []\n",
    "    data = []\n",
    "    I_p = []\n",
    "    for index, contents in data_dict.items():\n",
    "        time.append(contents['time'])\n",
    "        data.append(contents['data'])\n",
    "        I_p.append(contents['I_p'])\n",
    "    \n",
    "    data = np.array(data)\n",
    "    x_data = data[:-1,:]\n",
    "    y_data = data[1:,:]\n",
    "    dt_data = (time[1] - time[0]) * np.ones((data.shape[0] -1 , 1))\n",
    "    I_p = np.reshape(np.array(I_p)[:-1], (-1,1))\n",
    "    u_data = np.concatenate((dt_data, I_p), axis = 1)\n",
    "    return x_data, y_data, u_data"
   ]
  },
  {
   "cell_type": "code",
   "execution_count": 40,
   "id": "91a434cd",
   "metadata": {},
   "outputs": [
    {
     "name": "stdout",
     "output_type": "stream",
     "text": [
      "File not found: ../data/data_dict_25.npy\n",
      "File not found: ../data/data_dict_44.npy\n"
     ]
    }
   ],
   "source": [
    "import numpy as np\n",
    "import os\n",
    "\n",
    "x_dataset = []\n",
    "y_dataset = []\n",
    "u_dataset = []\n",
    "\n",
    "for suffix in range(10, 60):\n",
    "    data_file_path = '../data/data_dict_' + str(suffix) + '.npy'\n",
    "        \n",
    "    # Check if the file exists before trying to load it\n",
    "    if os.path.exists(data_file_path):\n",
    "        data_dict = np.load(data_file_path, allow_pickle=True).item()\n",
    "        x_data, y_data, u_data = build_dataset(data_dict)\n",
    "        x_dataset.append(x_data)\n",
    "        y_dataset.append(y_data)\n",
    "        u_dataset.append(u_data)\n",
    "    else:\n",
    "        print(f\"File not found: {data_file_path}\")\n"
   ]
  },
  {
   "cell_type": "code",
   "execution_count": 41,
   "id": "b6a69a12",
   "metadata": {},
   "outputs": [
    {
     "data": {
      "text/plain": [
       "(7221, 6957)"
      ]
     },
     "execution_count": 41,
     "metadata": {},
     "output_type": "execute_result"
    }
   ],
   "source": [
    "x_data = np.concatenate(x_dataset, axis = 0)\n",
    "y_data = np.concatenate(y_dataset, axis = 0)\n",
    "u_data = np.concatenate(u_dataset, axis = 0)\n",
    "x_data.shape"
   ]
  },
  {
   "cell_type": "code",
   "execution_count": 42,
   "id": "7bd164a9",
   "metadata": {},
   "outputs": [],
   "source": [
    "from sklearn.preprocessing import StandardScaler\n",
    "from sklearn.model_selection import train_test_split\n",
    "import numpy as np\n",
    "\n",
    "\n",
    "# Scaling the datasets\n",
    "scaler_x = StandardScaler().fit(x_data)\n",
    "scaler_u = StandardScaler().fit(u_data)\n",
    "\n",
    "x_data_scaled = scaler_x.transform(x_data)\n",
    "y_data_scaled = scaler_x.transform(y_data)\n",
    "u_data_scaled = scaler_u.transform(u_data)\n",
    "\n",
    "shuffled_indices = np.arange(len(x_data))\n",
    "np.random.shuffle(shuffled_indices)\n",
    "\n",
    "x_data_scaled = x_data_scaled[shuffled_indices]\n",
    "y_data_scaled = y_data_scaled[shuffled_indices]\n",
    "u_data_scaled = u_data_scaled[shuffled_indices]\n",
    "\n",
    "x_train, x_test = train_test_split(x_data_scaled, test_size=0.2, random_state=42)\n",
    "y_train, y_test = train_test_split(y_data_scaled, test_size=0.2, random_state=42)\n",
    "u_train, u_test = train_test_split(u_data_scaled, test_size=0.2, random_state=42)\n"
   ]
  },
  {
   "cell_type": "code",
   "execution_count": 43,
   "id": "44b440b9",
   "metadata": {},
   "outputs": [],
   "source": [
    "n_input = x_data.shape[1]\n",
    "layer_sizes_dic = [64, 64, 128]\n",
    "layer_sizes_k = [64, 64, 64]\n",
    "\n",
    "n_psi_train = 128\n",
    "u_dim = 2\n",
    "\n",
    "model_psi, model_koopman, model_inv_psi, model_predict, model_auto \\\n",
    "= Build_model(n_input, layer_sizes_dic, layer_sizes_k, n_psi_train, u_dim, para = True)"
   ]
  },
  {
   "cell_type": "code",
   "execution_count": 44,
   "id": "375bb150",
   "metadata": {},
   "outputs": [],
   "source": [
    "import torch\n",
    "from torch.optim import Adam\n",
    "from torch.utils.data import DataLoader, TensorDataset\n",
    "\n",
    "x_train = torch.tensor(x_train, dtype=torch.float32)\n",
    "y_train = torch.tensor(y_train, dtype=torch.float32)\n",
    "u_train = torch.tensor(u_train, dtype=torch.float32)\n",
    "x_test = torch.tensor(x_test, dtype=torch.float32)\n",
    "y_test = torch.tensor(y_test, dtype=torch.float32)\n",
    "u_test = torch.tensor(u_test, dtype=torch.float32)\n",
    "\n",
    "# Create a dataset\n",
    "dataset = TensorDataset(x_train, y_train, u_train)\n",
    "\n",
    "# Create a data loader\n",
    "data_loader = DataLoader(dataset, batch_size=64, shuffle=True)\n",
    "\n",
    "# Define the optimizer\n",
    "optimizer = Adam(list(model_koopman.parameters()) + \n",
    "                       list(model_inv_psi.parameters()), lr=0.0001)\n",
    "\n",
    "mse_loss = nn.MSELoss()\n",
    "\n",
    "lambda_1 = 1.0\n",
    "lambda_2 = 1.0\n",
    "lambda_3 = 1.0\n"
   ]
  },
  {
   "cell_type": "code",
   "execution_count": 45,
   "id": "3e5db55b",
   "metadata": {},
   "outputs": [
    {
     "name": "stdout",
     "output_type": "stream",
     "text": [
      "Epoch: 0, Loss: 1.4786291122436523\n",
      "Epoch: 0, Loss: 1.4758265018463135\n",
      "Epoch: 1, Loss: 0.9480206966400146\n",
      "Epoch: 1, Loss: 0.9334458112716675\n",
      "Epoch: 2, Loss: 0.8484436273574829\n",
      "Epoch: 2, Loss: 0.8299638032913208\n",
      "Epoch: 3, Loss: 0.6436688899993896\n",
      "Epoch: 3, Loss: 0.6269252300262451\n",
      "Epoch: 4, Loss: 0.4126705527305603\n",
      "Epoch: 4, Loss: 0.4005274176597595\n",
      "Epoch: 5, Loss: 0.261726438999176\n",
      "Epoch: 5, Loss: 0.2549295723438263\n",
      "Epoch: 6, Loss: 0.18171097338199615\n",
      "Epoch: 6, Loss: 0.179071307182312\n",
      "Epoch: 7, Loss: 0.13977961242198944\n",
      "Epoch: 7, Loss: 0.1389440894126892\n",
      "Epoch: 8, Loss: 0.12108203768730164\n",
      "Epoch: 8, Loss: 0.1211642324924469\n",
      "Epoch: 9, Loss: 0.10960177332162857\n",
      "Epoch: 9, Loss: 0.11036115884780884\n",
      "Epoch: 10, Loss: 0.10140295326709747\n",
      "Epoch: 10, Loss: 0.10244028270244598\n",
      "Epoch: 11, Loss: 0.0960337221622467\n",
      "Epoch: 11, Loss: 0.09714328497648239\n",
      "Epoch: 12, Loss: 0.08938392996788025\n",
      "Epoch: 12, Loss: 0.09075656533241272\n",
      "Epoch: 13, Loss: 0.07794716209173203\n",
      "Epoch: 13, Loss: 0.07949446141719818\n",
      "Epoch: 14, Loss: 0.06154360622167587\n",
      "Epoch: 14, Loss: 0.06328198313713074\n",
      "Epoch: 15, Loss: 0.04761675000190735\n",
      "Epoch: 15, Loss: 0.04933839291334152\n",
      "Epoch: 16, Loss: 0.03718012571334839\n",
      "Epoch: 16, Loss: 0.03874444216489792\n",
      "Epoch: 17, Loss: 0.03161775320768356\n",
      "Epoch: 17, Loss: 0.03292209655046463\n",
      "Epoch: 18, Loss: 0.02698618918657303\n",
      "Epoch: 18, Loss: 0.028098758310079575\n",
      "Epoch: 19, Loss: 0.024641253054142\n",
      "Epoch: 19, Loss: 0.02557089924812317\n",
      "Epoch: 20, Loss: 0.022527148947119713\n",
      "Epoch: 20, Loss: 0.023352880030870438\n",
      "Epoch: 21, Loss: 0.020579596981406212\n",
      "Epoch: 21, Loss: 0.021303461864590645\n",
      "Epoch: 22, Loss: 0.020791035145521164\n",
      "Epoch: 22, Loss: 0.021289240568876266\n",
      "Epoch: 23, Loss: 0.01850879192352295\n",
      "Epoch: 23, Loss: 0.019082600250840187\n",
      "Epoch: 24, Loss: 0.018146619200706482\n",
      "Epoch: 24, Loss: 0.01865069568157196\n",
      "Epoch: 25, Loss: 0.01694304496049881\n",
      "Epoch: 25, Loss: 0.01741328090429306\n",
      "Epoch: 26, Loss: 0.016983255743980408\n",
      "Epoch: 26, Loss: 0.017344243824481964\n",
      "Epoch: 27, Loss: 0.015613224357366562\n",
      "Epoch: 27, Loss: 0.01595454476773739\n",
      "Epoch: 28, Loss: 0.014943573623895645\n",
      "Epoch: 28, Loss: 0.015258856117725372\n",
      "Epoch: 29, Loss: 0.014617309905588627\n",
      "Epoch: 29, Loss: 0.014917165040969849\n",
      "Epoch: 30, Loss: 0.014766503125429153\n",
      "Epoch: 30, Loss: 0.014902792870998383\n",
      "Epoch: 31, Loss: 0.014659743756055832\n",
      "Epoch: 31, Loss: 0.014911970123648643\n",
      "Epoch: 32, Loss: 0.012495836243033409\n",
      "Epoch: 32, Loss: 0.012657305225729942\n",
      "Epoch: 33, Loss: 0.01167268119752407\n",
      "Epoch: 33, Loss: 0.011866383254528046\n",
      "Epoch: 34, Loss: 0.011134742759168148\n",
      "Epoch: 34, Loss: 0.011309889145195484\n",
      "Epoch: 35, Loss: 0.01075948216021061\n",
      "Epoch: 35, Loss: 0.010843286290764809\n",
      "Epoch: 36, Loss: 0.009836185723543167\n",
      "Epoch: 36, Loss: 0.009926144033670425\n",
      "Epoch: 37, Loss: 0.009303162805736065\n",
      "Epoch: 37, Loss: 0.009328890591859818\n",
      "Epoch: 38, Loss: 0.008593183010816574\n",
      "Epoch: 38, Loss: 0.008602090179920197\n",
      "Epoch: 39, Loss: 0.009249527007341385\n",
      "Epoch: 39, Loss: 0.00935413222759962\n",
      "Epoch: 40, Loss: 0.007780249230563641\n",
      "Epoch: 40, Loss: 0.007770123891532421\n",
      "Epoch: 41, Loss: 0.0074119591154158115\n",
      "Epoch: 41, Loss: 0.007440265733748674\n",
      "Epoch: 42, Loss: 0.007037798874080181\n",
      "Epoch: 42, Loss: 0.007102532312273979\n",
      "Epoch: 43, Loss: 0.006819179747253656\n",
      "Epoch: 43, Loss: 0.0068376436829566956\n",
      "Epoch: 44, Loss: 0.006830007769167423\n",
      "Epoch: 44, Loss: 0.006753720808774233\n",
      "Epoch: 45, Loss: 0.00595067348331213\n",
      "Epoch: 45, Loss: 0.0058940863236784935\n",
      "Epoch: 46, Loss: 0.006587483920156956\n",
      "Epoch: 46, Loss: 0.006637729704380035\n",
      "Epoch: 47, Loss: 0.006879177875816822\n",
      "Epoch: 47, Loss: 0.006709463894367218\n",
      "Epoch: 48, Loss: 0.0058731273747980595\n",
      "Epoch: 48, Loss: 0.0058247786946594715\n",
      "Epoch: 49, Loss: 0.0059762271121144295\n",
      "Epoch: 49, Loss: 0.005871343892067671\n",
      "Epoch: 50, Loss: 0.0054232291877269745\n",
      "Epoch: 50, Loss: 0.005400975234806538\n",
      "Epoch: 51, Loss: 0.00570424972102046\n",
      "Epoch: 51, Loss: 0.005758653394877911\n",
      "Epoch: 52, Loss: 0.0052186269313097\n",
      "Epoch: 52, Loss: 0.005234080366790295\n",
      "Epoch: 53, Loss: 0.0054018450900912285\n",
      "Epoch: 53, Loss: 0.0053710853680968285\n",
      "Epoch: 54, Loss: 0.006418172270059586\n",
      "Epoch: 54, Loss: 0.006350080482661724\n",
      "Epoch: 55, Loss: 0.004544115625321865\n",
      "Epoch: 55, Loss: 0.004552619997411966\n",
      "Epoch: 56, Loss: 0.004388331435620785\n",
      "Epoch: 56, Loss: 0.004372310824692249\n",
      "Epoch: 57, Loss: 0.004651034250855446\n",
      "Epoch: 57, Loss: 0.0046404944732785225\n",
      "Epoch: 58, Loss: 0.004517721943557262\n",
      "Epoch: 58, Loss: 0.004499620292335749\n",
      "Epoch: 59, Loss: 0.004166974686086178\n",
      "Epoch: 59, Loss: 0.004173229448497295\n",
      "Epoch: 60, Loss: 0.004272184334695339\n",
      "Epoch: 60, Loss: 0.004256874322891235\n",
      "Epoch: 61, Loss: 0.004170747473835945\n",
      "Epoch: 61, Loss: 0.004194809589534998\n",
      "Epoch: 62, Loss: 0.004244995303452015\n",
      "Epoch: 62, Loss: 0.00418853759765625\n",
      "Epoch: 63, Loss: 0.00415978766977787\n",
      "Epoch: 63, Loss: 0.0041619110852479935\n",
      "Epoch: 64, Loss: 0.0036092635709792376\n",
      "Epoch: 64, Loss: 0.0036355964839458466\n",
      "Epoch: 65, Loss: 0.003744784276932478\n",
      "Epoch: 65, Loss: 0.003728663083165884\n",
      "Epoch: 66, Loss: 0.005041911266744137\n",
      "Epoch: 66, Loss: 0.0049997130408883095\n",
      "Epoch: 67, Loss: 0.004292734898626804\n",
      "Epoch: 67, Loss: 0.004324691370129585\n",
      "Epoch: 68, Loss: 0.006157424300909042\n",
      "Epoch: 68, Loss: 0.006174453068524599\n",
      "Epoch: 69, Loss: 0.0033721355721354485\n",
      "Epoch: 69, Loss: 0.003378505352884531\n",
      "Epoch: 70, Loss: 0.003524604719132185\n",
      "Epoch: 70, Loss: 0.003501877188682556\n",
      "Epoch: 71, Loss: 0.003276973497122526\n",
      "Epoch: 71, Loss: 0.003254014067351818\n",
      "Epoch: 72, Loss: 0.0032627140171825886\n",
      "Epoch: 72, Loss: 0.00324783893302083\n",
      "Epoch: 73, Loss: 0.003544155042618513\n",
      "Epoch: 73, Loss: 0.003522038459777832\n",
      "Epoch: 74, Loss: 0.0031679701060056686\n",
      "Epoch: 74, Loss: 0.003166780574247241\n",
      "Epoch: 75, Loss: 0.003203821834176779\n",
      "Epoch: 75, Loss: 0.0031818721909075975\n",
      "Epoch: 76, Loss: 0.002996205585077405\n",
      "Epoch: 76, Loss: 0.0029922467656433582\n",
      "Epoch: 77, Loss: 0.0036766580305993557\n",
      "Epoch: 77, Loss: 0.003633652813732624\n",
      "Epoch: 78, Loss: 0.0029777686577290297\n",
      "Epoch: 78, Loss: 0.002983934711664915\n",
      "Epoch: 79, Loss: 0.0027447063475847244\n",
      "Epoch: 79, Loss: 0.0027683768421411514\n",
      "Epoch: 80, Loss: 0.003747421782463789\n",
      "Epoch: 80, Loss: 0.0037453281693160534\n",
      "Epoch: 81, Loss: 0.002980925841256976\n",
      "Epoch: 81, Loss: 0.002953752875328064\n",
      "Epoch: 82, Loss: 0.002764066681265831\n",
      "Epoch: 82, Loss: 0.0027682159561663866\n",
      "Epoch: 83, Loss: 0.0026639571879059076\n",
      "Epoch: 83, Loss: 0.0026716534048318863\n",
      "Epoch: 84, Loss: 0.0027962420135736465\n",
      "Epoch: 84, Loss: 0.0027705486863851547\n",
      "Epoch: 85, Loss: 0.0028221402317285538\n",
      "Epoch: 85, Loss: 0.0028087180107831955\n",
      "Epoch: 86, Loss: 0.002795829437673092\n",
      "Epoch: 86, Loss: 0.0028022918850183487\n",
      "Epoch: 87, Loss: 0.0024482624139636755\n",
      "Epoch: 87, Loss: 0.0024553921539336443\n",
      "Epoch: 88, Loss: 0.002870560623705387\n",
      "Epoch: 88, Loss: 0.0028384122997522354\n",
      "Epoch: 89, Loss: 0.00266185961663723\n",
      "Epoch: 89, Loss: 0.0026160646229982376\n",
      "Epoch: 90, Loss: 0.002275068312883377\n",
      "Epoch: 90, Loss: 0.0022789742797613144\n",
      "Epoch: 91, Loss: 0.002340418752282858\n",
      "Epoch: 91, Loss: 0.002329957904294133\n",
      "Epoch: 92, Loss: 0.003075739834457636\n",
      "Epoch: 92, Loss: 0.0030671567656099796\n",
      "Epoch: 93, Loss: 0.0025541302748024464\n",
      "Epoch: 93, Loss: 0.002518522087484598\n",
      "Epoch: 94, Loss: 0.00284184655174613\n",
      "Epoch: 94, Loss: 0.002809647936373949\n",
      "Epoch: 95, Loss: 0.0021061215084046125\n",
      "Epoch: 95, Loss: 0.0021375748328864574\n",
      "Epoch: 96, Loss: 0.0021909954957664013\n",
      "Epoch: 96, Loss: 0.002235542982816696\n",
      "Epoch: 97, Loss: 0.0020055826753377914\n",
      "Epoch: 97, Loss: 0.001998267136514187\n",
      "Epoch: 98, Loss: 0.001962080830708146\n",
      "Epoch: 98, Loss: 0.001976440194994211\n",
      "Epoch: 99, Loss: 0.002322304993867874\n",
      "Epoch: 99, Loss: 0.00231741089373827\n",
      "Epoch: 100, Loss: 0.0029486329294741154\n",
      "Epoch: 100, Loss: 0.002970875008031726\n",
      "Epoch: 101, Loss: 0.002109421417117119\n",
      "Epoch: 101, Loss: 0.0021190426778048277\n",
      "Epoch: 102, Loss: 0.002047041431069374\n",
      "Epoch: 102, Loss: 0.002028590999543667\n",
      "Epoch: 103, Loss: 0.00199695467017591\n",
      "Epoch: 103, Loss: 0.002009149407967925\n",
      "Epoch: 104, Loss: 0.0034246938303112984\n",
      "Epoch: 104, Loss: 0.0034482572227716446\n",
      "Epoch: 105, Loss: 0.0025297440588474274\n",
      "Epoch: 105, Loss: 0.0024689361453056335\n",
      "Epoch: 106, Loss: 0.001642696326598525\n",
      "Epoch: 106, Loss: 0.0016531405271962285\n",
      "Epoch: 107, Loss: 0.0018061711452901363\n",
      "Epoch: 107, Loss: 0.0017817807383835316\n",
      "Epoch: 108, Loss: 0.0016849758103489876\n",
      "Epoch: 108, Loss: 0.0016902904026210308\n"
     ]
    },
    {
     "name": "stdout",
     "output_type": "stream",
     "text": [
      "Epoch: 109, Loss: 0.0019687667954713106\n",
      "Epoch: 109, Loss: 0.0019541142974048853\n",
      "Epoch: 110, Loss: 0.0015090717934072018\n",
      "Epoch: 110, Loss: 0.0015129095409065485\n",
      "Epoch: 111, Loss: 0.0017055553616955876\n",
      "Epoch: 111, Loss: 0.001715921564027667\n",
      "Epoch: 112, Loss: 0.001674271421507001\n",
      "Epoch: 112, Loss: 0.0016465735388919711\n",
      "Epoch: 113, Loss: 0.001858540577813983\n",
      "Epoch: 113, Loss: 0.0019039380131289363\n",
      "Epoch: 114, Loss: 0.0014800087083131075\n",
      "Epoch: 114, Loss: 0.0014625699259340763\n",
      "Epoch: 115, Loss: 0.0014076163060963154\n",
      "Epoch: 115, Loss: 0.0014020117232576013\n",
      "Epoch: 116, Loss: 0.0014340570196509361\n",
      "Epoch: 116, Loss: 0.001432589953765273\n",
      "Epoch: 117, Loss: 0.0015716304769739509\n",
      "Epoch: 117, Loss: 0.001578940311446786\n",
      "Epoch: 118, Loss: 0.0015758434310555458\n",
      "Epoch: 118, Loss: 0.0015380366239696741\n",
      "Epoch: 119, Loss: 0.0016376052517443895\n",
      "Epoch: 119, Loss: 0.0015730921877548099\n",
      "Epoch: 120, Loss: 0.0024411692284047604\n",
      "Epoch: 120, Loss: 0.002470651175826788\n",
      "Epoch: 121, Loss: 0.0013663331046700478\n",
      "Epoch: 121, Loss: 0.0013720227871090174\n",
      "Epoch: 122, Loss: 0.0015869931085035205\n",
      "Epoch: 122, Loss: 0.0015610026894137263\n",
      "Epoch: 123, Loss: 0.0015155994333326817\n",
      "Epoch: 123, Loss: 0.0015066636260598898\n",
      "Epoch: 124, Loss: 0.001271523768082261\n",
      "Epoch: 124, Loss: 0.0012613919097930193\n",
      "Epoch: 125, Loss: 0.001319453353062272\n",
      "Epoch: 125, Loss: 0.0012750854948535562\n",
      "Epoch: 126, Loss: 0.0013106262777000666\n",
      "Epoch: 126, Loss: 0.001316465437412262\n",
      "Epoch: 127, Loss: 0.0011227300856262445\n",
      "Epoch: 127, Loss: 0.0011291183764114976\n",
      "Epoch: 128, Loss: 0.0015588888199999928\n",
      "Epoch: 128, Loss: 0.0015330269234254956\n",
      "Epoch: 129, Loss: 0.0012097074650228024\n",
      "Epoch: 129, Loss: 0.0012025136966258287\n",
      "Epoch: 130, Loss: 0.0017325168009847403\n",
      "Epoch: 130, Loss: 0.0017226384952664375\n",
      "Epoch: 131, Loss: 0.0016085859388113022\n",
      "Epoch: 131, Loss: 0.0015531268436461687\n",
      "Epoch: 132, Loss: 0.001186697045341134\n",
      "Epoch: 132, Loss: 0.0011865519918501377\n",
      "Epoch: 133, Loss: 0.0018428363837301731\n",
      "Epoch: 133, Loss: 0.0017192789819091558\n",
      "Epoch: 134, Loss: 0.0012344990391284227\n",
      "Epoch: 134, Loss: 0.0012570580001920462\n",
      "Epoch: 135, Loss: 0.001010649953968823\n",
      "Epoch: 135, Loss: 0.0009955974528566003\n",
      "Epoch: 136, Loss: 0.0010426531080156565\n",
      "Epoch: 136, Loss: 0.0010444214567542076\n",
      "Epoch: 137, Loss: 0.0017521015834063292\n",
      "Epoch: 137, Loss: 0.0017636421835049987\n",
      "Epoch: 138, Loss: 0.0016679028049111366\n",
      "Epoch: 138, Loss: 0.0016487280372530222\n",
      "Epoch: 139, Loss: 0.0009391281055286527\n",
      "Epoch: 139, Loss: 0.0009422905277460814\n",
      "Epoch: 140, Loss: 0.0010044296504929662\n",
      "Epoch: 140, Loss: 0.0010144442785531282\n",
      "Epoch: 141, Loss: 0.000978157389909029\n",
      "Epoch: 141, Loss: 0.0009974758140742779\n",
      "Epoch: 142, Loss: 0.0013710552593693137\n",
      "Epoch: 142, Loss: 0.0013630506582558155\n",
      "Epoch: 143, Loss: 0.0008939920226112008\n",
      "Epoch: 143, Loss: 0.0008921304251998663\n",
      "Epoch: 144, Loss: 0.0009776490041986108\n",
      "Epoch: 144, Loss: 0.0009763565612956882\n",
      "Epoch: 145, Loss: 0.000939216697588563\n",
      "Epoch: 145, Loss: 0.0009615469025447965\n",
      "Epoch: 146, Loss: 0.0015333930496126413\n",
      "Epoch: 146, Loss: 0.0015017047990113497\n",
      "Epoch: 147, Loss: 0.0009033021633513272\n",
      "Epoch: 147, Loss: 0.0008871523896232247\n",
      "Epoch: 148, Loss: 0.0009554241551086307\n",
      "Epoch: 148, Loss: 0.0009599211625754833\n",
      "Epoch: 149, Loss: 0.0009020791621878743\n",
      "Epoch: 149, Loss: 0.0009056071285158396\n",
      "Epoch: 150, Loss: 0.001047714613378048\n",
      "Epoch: 150, Loss: 0.001079736975952983\n",
      "Epoch: 151, Loss: 0.0009333080379292369\n",
      "Epoch: 151, Loss: 0.0009440529975108802\n",
      "Epoch: 152, Loss: 0.0012153680436313152\n",
      "Epoch: 152, Loss: 0.0012074438855051994\n",
      "Epoch: 153, Loss: 0.0008572812657803297\n",
      "Epoch: 153, Loss: 0.0008765332167968154\n",
      "Epoch: 154, Loss: 0.0007608475862070918\n",
      "Epoch: 154, Loss: 0.000779483700171113\n",
      "Epoch: 155, Loss: 0.0010363917099311948\n",
      "Epoch: 155, Loss: 0.0010540755465626717\n",
      "Epoch: 156, Loss: 0.0010169614106416702\n",
      "Epoch: 156, Loss: 0.001045587589032948\n",
      "Epoch: 157, Loss: 0.0017450395971536636\n",
      "Epoch: 157, Loss: 0.001743518398143351\n",
      "Epoch: 158, Loss: 0.000760755967348814\n",
      "Epoch: 158, Loss: 0.0007890552515164018\n",
      "Epoch: 159, Loss: 0.0007683149888180196\n",
      "Epoch: 159, Loss: 0.0007747653871774673\n",
      "Epoch: 160, Loss: 0.0007345946505665779\n",
      "Epoch: 160, Loss: 0.0007460403721779585\n",
      "Epoch: 161, Loss: 0.0008660570019856095\n",
      "Epoch: 161, Loss: 0.000869571347720921\n",
      "Epoch: 162, Loss: 0.0006909577641636133\n",
      "Epoch: 162, Loss: 0.0007030239794403315\n",
      "Epoch: 163, Loss: 0.0008092600619420409\n",
      "Epoch: 163, Loss: 0.0008082166314125061\n",
      "Epoch: 164, Loss: 0.0009655043832026422\n",
      "Epoch: 164, Loss: 0.0009760565008036792\n",
      "Epoch: 165, Loss: 0.0014305325457826257\n",
      "Epoch: 165, Loss: 0.0014284981880337\n",
      "Epoch: 166, Loss: 0.0007175279315561056\n",
      "Epoch: 166, Loss: 0.0007360514136962593\n",
      "Epoch: 167, Loss: 0.0006980301113799214\n",
      "Epoch: 167, Loss: 0.0007089608116075397\n",
      "Epoch: 168, Loss: 0.0006488984217867255\n",
      "Epoch: 168, Loss: 0.0006587865645997226\n",
      "Epoch: 169, Loss: 0.0008731682319194078\n",
      "Epoch: 169, Loss: 0.0008703708881512284\n",
      "Epoch: 170, Loss: 0.0010078820632770658\n",
      "Epoch: 170, Loss: 0.0009749747114256024\n",
      "Epoch: 171, Loss: 0.0007216512458398938\n",
      "Epoch: 171, Loss: 0.0007200408144854009\n",
      "Epoch: 172, Loss: 0.00106740090996027\n",
      "Epoch: 172, Loss: 0.001092586200684309\n",
      "Epoch: 173, Loss: 0.000712342094630003\n",
      "Epoch: 173, Loss: 0.0007254969095811248\n",
      "Epoch: 174, Loss: 0.00062133080791682\n",
      "Epoch: 174, Loss: 0.0006200492498464882\n",
      "Epoch: 175, Loss: 0.0006300345412455499\n",
      "Epoch: 175, Loss: 0.0006361742271110415\n",
      "Epoch: 176, Loss: 0.0008446697611361742\n",
      "Epoch: 176, Loss: 0.0008276439039036632\n",
      "Epoch: 177, Loss: 0.0008258352754637599\n",
      "Epoch: 177, Loss: 0.0008257419103756547\n",
      "Epoch: 178, Loss: 0.000937004922889173\n",
      "Epoch: 178, Loss: 0.0009200603235512972\n",
      "Epoch: 179, Loss: 0.0009081496391445398\n",
      "Epoch: 179, Loss: 0.0008819247595965862\n",
      "Epoch: 180, Loss: 0.0007739508291706443\n",
      "Epoch: 180, Loss: 0.0007688743062317371\n",
      "Epoch: 181, Loss: 0.0009641286451369524\n",
      "Epoch: 181, Loss: 0.0009508304065093398\n",
      "Epoch: 182, Loss: 0.0005544791929423809\n",
      "Epoch: 182, Loss: 0.0005612148670479655\n",
      "Epoch: 183, Loss: 0.0011977655813097954\n",
      "Epoch: 183, Loss: 0.0011765616945922375\n",
      "Epoch: 184, Loss: 0.0006216327892616391\n",
      "Epoch: 184, Loss: 0.0006140376208350062\n",
      "Epoch: 185, Loss: 0.0006012393860146403\n",
      "Epoch: 185, Loss: 0.0006064422195777297\n",
      "Epoch: 186, Loss: 0.0006356054218485951\n",
      "Epoch: 186, Loss: 0.0006186950486153364\n",
      "Epoch: 187, Loss: 0.0008361673098988831\n",
      "Epoch: 187, Loss: 0.0008629040094092488\n",
      "Epoch: 188, Loss: 0.0009107436053454876\n",
      "Epoch: 188, Loss: 0.000896722951438278\n",
      "Epoch: 189, Loss: 0.0006693832110613585\n",
      "Epoch: 189, Loss: 0.0006800850969739258\n",
      "Epoch: 190, Loss: 0.00069566530873999\n",
      "Epoch: 190, Loss: 0.0006972225965000689\n",
      "Epoch: 191, Loss: 0.000558028812520206\n",
      "Epoch: 191, Loss: 0.000552354205865413\n",
      "Epoch: 192, Loss: 0.0005560707068070769\n",
      "Epoch: 192, Loss: 0.0005690661491826177\n",
      "Epoch: 193, Loss: 0.0007045259117148817\n",
      "Epoch: 193, Loss: 0.000716852315235883\n",
      "Epoch: 194, Loss: 0.0006195014575496316\n",
      "Epoch: 194, Loss: 0.0006104359636083245\n",
      "Epoch: 195, Loss: 0.0015659242635592818\n",
      "Epoch: 195, Loss: 0.001544819911941886\n",
      "Epoch: 196, Loss: 0.000683684425894171\n",
      "Epoch: 196, Loss: 0.0006700769299641252\n",
      "Epoch: 197, Loss: 0.0005495004006661475\n",
      "Epoch: 197, Loss: 0.0005598832503892481\n",
      "Epoch: 198, Loss: 0.0005370372673496604\n",
      "Epoch: 198, Loss: 0.0005558142438530922\n",
      "Epoch: 199, Loss: 0.0006446344777941704\n",
      "Epoch: 199, Loss: 0.000644262065179646\n"
     ]
    }
   ],
   "source": [
    "# Initialize a list to store the loss values\n",
    "train_losses = []\n",
    "val_losses = []\n",
    "\n",
    "# Training process\n",
    "\n",
    "for step in range(200):\n",
    "    for x_batch, y_batch, u_batch in data_loader:\n",
    "        # Forward propagation\n",
    "        optimizer.zero_grad()\n",
    "        koopman_pred = model_koopman(x_batch, y_batch, u_batch)\n",
    "        auto_pred = model_auto(x_batch)\n",
    "        predict_pred = model_predict(x_batch, u_batch)\n",
    "\n",
    "        loss = lambda_1 * mse_loss(koopman_pred, torch.zeros_like(koopman_pred)) \\\n",
    "               + lambda_2 * mse_loss(auto_pred, x_batch) \\\n",
    "               + lambda_3 * mse_loss(predict_pred, y_batch)\n",
    "\n",
    "        optimizer.zero_grad()\n",
    "        loss.backward()\n",
    "        optimizer.step()\n",
    "    \n",
    "    # Training Loss\n",
    "    koopman_pred = model_koopman(x_train, y_train, u_train)\n",
    "    auto_pred = model_auto(x_train)\n",
    "    predict_pred = model_predict(x_train, u_train)\n",
    "\n",
    "    loss = lambda_1 * mse_loss(koopman_pred, torch.zeros_like(koopman_pred)) \\\n",
    "               + lambda_2 * mse_loss(auto_pred, x_train) \\\n",
    "               + lambda_3 * mse_loss(predict_pred, y_train)        \n",
    "    train_losses.append(loss.item())\n",
    "        \n",
    "    print(f'Epoch: {step}, Loss: {loss.item()}')\n",
    "\n",
    "\n",
    "    # Test the model\n",
    "    with torch.no_grad():\n",
    "        koopman_pred = model_koopman(x_test, y_test, u_test)\n",
    "        auto_pred = model_auto(x_test)\n",
    "        predict_pred = model_predict(x_test, u_test)\n",
    "\n",
    "        loss = lambda_1 * mse_loss(koopman_pred, torch.zeros_like(koopman_pred)) \\\n",
    "           + lambda_2 * mse_loss(auto_pred, x_test) \\\n",
    "           + lambda_3 * mse_loss(predict_pred, y_test)\n",
    "        val_losses.append(loss.item())\n",
    "\n",
    "    \n",
    "    print(f'Epoch: {step}, Loss: {loss.item()}')"
   ]
  },
  {
   "cell_type": "code",
   "execution_count": 46,
   "id": "55c42932",
   "metadata": {},
   "outputs": [
    {
     "data": {
      "text/plain": [
       "array([[-5.25091337e-04,  1.12754617e-04, -4.29677412e-06, ...,\n",
       "         1.17198996e-04, -1.54691103e-06,  8.61784205e-04],\n",
       "       [-1.54653633e-03, -2.19437386e-04,  4.90416536e-05, ...,\n",
       "        -1.12381774e-04, -1.05977288e-05,  7.44004419e-04],\n",
       "       [ 1.48214283e-03,  8.66449046e-05, -1.45622257e-05, ...,\n",
       "         5.40450709e-06,  9.91294489e-05, -7.26351467e-04],\n",
       "       ...,\n",
       "       [-2.47334589e-03, -2.78464675e-04,  1.41223677e-05, ...,\n",
       "        -2.39710921e-06,  1.18114902e-04,  3.43255705e-04],\n",
       "       [ 1.25690684e-03,  1.14937375e-04, -1.87947279e-05, ...,\n",
       "         1.02129450e-04,  1.28207047e-05, -1.89647245e-04],\n",
       "       [ 2.13895086e-03,  8.29006283e-05, -4.68104652e-06, ...,\n",
       "         9.69282905e-06,  5.41751289e-05, -8.24095399e-04]])"
      ]
     },
     "execution_count": 46,
     "metadata": {},
     "output_type": "execute_result"
    }
   ],
   "source": [
    "err_train = scaler_x.inverse_transform(y_train) - scaler_x.inverse_transform(model_predict(x_train, u_train).detach().numpy())\n",
    "err_train"
   ]
  },
  {
   "cell_type": "code",
   "execution_count": 47,
   "id": "11cc9960",
   "metadata": {},
   "outputs": [],
   "source": [
    "dt = u_data[:,0:1]\n",
    "Ip = u_data[:,1:2]"
   ]
  },
  {
   "cell_type": "code",
   "execution_count": 120,
   "id": "34e69fe3",
   "metadata": {},
   "outputs": [],
   "source": [
    "x_train_dmd = scaler_x.inverse_transform(x_train)\n",
    "u_train_dmd = scaler_u.inverse_transform(u_train)"
   ]
  },
  {
   "cell_type": "code",
   "execution_count": 121,
   "id": "da4e055a",
   "metadata": {},
   "outputs": [
    {
     "name": "stdout",
     "output_type": "stream",
     "text": [
      "(5776, 6957)\n"
     ]
    }
   ],
   "source": [
    "X = x_train_dmd * u_train_dmd[:,0:1]\n",
    "print(X.shape)\n",
    "K, _, _, _ = np.linalg.lstsq(X, err_train, rcond=None)"
   ]
  },
  {
   "cell_type": "code",
   "execution_count": 122,
   "id": "8fff7d7d",
   "metadata": {},
   "outputs": [
    {
     "data": {
      "text/plain": [
       "array([[ 9.43000714e-05,  9.88346646e-06, -1.84504443e-06, ...,\n",
       "         1.03029569e-05,  9.77529615e-06, -6.40651268e-05],\n",
       "       [-9.53373457e-05, -9.99047628e-06,  1.85885843e-06, ...,\n",
       "        -8.21818069e-07, -1.19563102e-06,  2.12341397e-05],\n",
       "       [ 1.17062676e-04,  1.22678156e-05, -2.28504413e-06, ...,\n",
       "         6.50665233e-06,  6.45192923e-06, -5.01289862e-05],\n",
       "       ...,\n",
       "       [ 1.25116479e-05,  1.31056430e-06, -2.42179936e-07, ...,\n",
       "        -2.67215252e-06, -2.38620245e-06,  1.21531747e-05],\n",
       "       [ 6.18027968e-05,  6.47642126e-06, -1.20524300e-06, ...,\n",
       "         1.22995572e-06,  1.40669155e-06, -1.67010183e-05],\n",
       "       [ 6.02031796e-05,  6.30844451e-06, -1.17290895e-06, ...,\n",
       "        -2.05784302e-06, -1.59499325e-06, -5.42402451e-07]])"
      ]
     },
     "execution_count": 122,
     "metadata": {},
     "output_type": "execute_result"
    }
   ],
   "source": [
    "X"
   ]
  },
  {
   "cell_type": "code",
   "execution_count": 123,
   "id": "bafe6b05",
   "metadata": {},
   "outputs": [
    {
     "data": {
      "text/plain": [
       "array([[0.00095238],\n",
       "       [0.00071429],\n",
       "       [0.00047619],\n",
       "       ...,\n",
       "       [0.00051282],\n",
       "       [0.00042553],\n",
       "       [0.00066667]])"
      ]
     },
     "execution_count": 123,
     "metadata": {},
     "output_type": "execute_result"
    }
   ],
   "source": [
    "u_train_dmd[:,0:1]"
   ]
  },
  {
   "cell_type": "code",
   "execution_count": 124,
   "id": "095cb5a6",
   "metadata": {},
   "outputs": [
    {
     "data": {
      "text/plain": [
       "array([[ 0.09901507,  0.01037764, -0.0019373 , ...,  0.0108181 ,\n",
       "         0.01026406, -0.06726838],\n",
       "       [-0.13347228, -0.01398667,  0.0026024 , ..., -0.00115055,\n",
       "        -0.00167388,  0.0297278 ],\n",
       "       [ 0.24583162,  0.02576241, -0.00479859, ...,  0.01366397,\n",
       "         0.01354905, -0.10527087],\n",
       "       ...,\n",
       "       [ 0.02439771,  0.0025556 , -0.00047225, ..., -0.0052107 ,\n",
       "        -0.00465309,  0.02369869],\n",
       "       [ 0.14523657,  0.01521959, -0.00283232, ...,  0.0028904 ,\n",
       "         0.00330573, -0.03924739],\n",
       "       [ 0.09030477,  0.00946267, -0.00175936, ..., -0.00308676,\n",
       "        -0.00239249, -0.0008136 ]])"
      ]
     },
     "execution_count": 124,
     "metadata": {},
     "output_type": "execute_result"
    }
   ],
   "source": [
    "x_train_dmd"
   ]
  },
  {
   "cell_type": "code",
   "execution_count": 125,
   "id": "1087e5fa",
   "metadata": {},
   "outputs": [],
   "source": [
    "U, S, VT = np.linalg.svd(K)"
   ]
  },
  {
   "cell_type": "code",
   "execution_count": 126,
   "id": "dbee1776",
   "metadata": {},
   "outputs": [
    {
     "data": {
      "text/plain": [
       "180013229934.31927"
      ]
     },
     "execution_count": 126,
     "metadata": {},
     "output_type": "execute_result"
    }
   ],
   "source": [
    "S[0]"
   ]
  },
  {
   "cell_type": "code",
   "execution_count": 131,
   "id": "9e8026ae",
   "metadata": {},
   "outputs": [
    {
     "data": {
      "text/plain": [
       "0.722054427590438"
      ]
     },
     "execution_count": 131,
     "metadata": {},
     "output_type": "execute_result"
    }
   ],
   "source": [
    "np.max(abs(err_train))"
   ]
  },
  {
   "cell_type": "code",
   "execution_count": 133,
   "id": "f96ae400",
   "metadata": {},
   "outputs": [
    {
     "data": {
      "text/plain": [
       "0.7915930244155066"
      ]
     },
     "execution_count": 133,
     "metadata": {},
     "output_type": "execute_result"
    }
   ],
   "source": [
    "np.max(abs(err_train - X @ K))"
   ]
  },
  {
   "cell_type": "code",
   "execution_count": 119,
   "id": "e9297cdc",
   "metadata": {},
   "outputs": [
    {
     "data": {
      "text/plain": [
       "tensor([[ 0.8747,  0.8742, -0.8753,  ...,  1.1817,  1.1713, -1.1109],\n",
       "        [-0.7820, -0.7833,  0.7825,  ..., -0.0512, -0.1070,  0.3588],\n",
       "        [ 1.2859,  1.2872, -1.2868,  ...,  0.9302,  0.9698, -1.1305],\n",
       "        ...,\n",
       "        [-0.0958, -0.0981,  0.0997,  ..., -0.7129, -0.6798,  0.5633],\n",
       "        [ 0.7493,  0.7503, -0.7494,  ...,  0.0794,  0.1303, -0.3471],\n",
       "        [ 0.4595,  0.4615, -0.4605,  ..., -0.3737, -0.3185,  0.0913]],\n",
       "       dtype=torch.float64)"
      ]
     },
     "execution_count": 119,
     "metadata": {},
     "output_type": "execute_result"
    }
   ],
   "source": [
    "err_train_auto = y_train - X @ K\n",
    "err_train_auto"
   ]
  },
  {
   "cell_type": "code",
   "execution_count": 60,
   "id": "75ad411a",
   "metadata": {},
   "outputs": [],
   "source": [
    "err_train_auto_scaled = scaler_x.transform(err_train_auto)\n",
    "err_train_auto_scaled = torch.tensor(err_train_auto_scaled, dtype=torch.float32)"
   ]
  },
  {
   "cell_type": "code",
   "execution_count": 61,
   "id": "9190e2af",
   "metadata": {},
   "outputs": [
    {
     "name": "stdout",
     "output_type": "stream",
     "text": [
      "Epoch: 0, Loss: 0.0007662585121579468\n",
      "Epoch: 1, Loss: 0.0009619524935260415\n",
      "Epoch: 2, Loss: 0.0005072714993730187\n",
      "Epoch: 3, Loss: 0.0006785170990042388\n",
      "Epoch: 4, Loss: 0.0006079294835217297\n",
      "Epoch: 5, Loss: 0.001734613673761487\n",
      "Epoch: 6, Loss: 0.0008001821697689593\n",
      "Epoch: 7, Loss: 0.0005177005077712238\n",
      "Epoch: 8, Loss: 0.0006662321975454688\n",
      "Epoch: 9, Loss: 0.0007714172825217247\n",
      "Epoch: 10, Loss: 0.0008572235237807035\n",
      "Epoch: 11, Loss: 0.0005725270602852106\n",
      "Epoch: 12, Loss: 0.0008400137303397059\n",
      "Epoch: 13, Loss: 0.0005017252988182008\n",
      "Epoch: 14, Loss: 0.0004899939522147179\n",
      "Epoch: 15, Loss: 0.000561643682885915\n",
      "Epoch: 16, Loss: 0.0004966658307239413\n",
      "Epoch: 17, Loss: 0.0008508880855515599\n",
      "Epoch: 18, Loss: 0.0005856454954482615\n",
      "Epoch: 19, Loss: 0.0005206238129176199\n",
      "Epoch: 20, Loss: 0.0006219935603439808\n",
      "Epoch: 21, Loss: 0.0004739192081615329\n",
      "Epoch: 22, Loss: 0.0005078496178612113\n",
      "Epoch: 23, Loss: 0.0008493043715134263\n",
      "Epoch: 24, Loss: 0.0008520848350599408\n",
      "Epoch: 25, Loss: 0.0004778843722306192\n",
      "Epoch: 26, Loss: 0.000592680589761585\n",
      "Epoch: 27, Loss: 0.00045925608719699085\n",
      "Epoch: 28, Loss: 0.0007105430122464895\n",
      "Epoch: 29, Loss: 0.0005588862113654613\n",
      "Epoch: 30, Loss: 0.0005620705778710544\n",
      "Epoch: 31, Loss: 0.00045872770715504885\n",
      "Epoch: 32, Loss: 0.0008557767141610384\n",
      "Epoch: 33, Loss: 0.0005695514846593142\n",
      "Epoch: 34, Loss: 0.0005276129813864827\n",
      "Epoch: 35, Loss: 0.0004807430668734014\n",
      "Epoch: 36, Loss: 0.0004920164356008172\n",
      "Epoch: 37, Loss: 0.0004967896966263652\n",
      "Epoch: 38, Loss: 0.0005689130630344152\n",
      "Epoch: 39, Loss: 0.0006456465926021338\n",
      "Epoch: 40, Loss: 0.000425831793108955\n",
      "Epoch: 41, Loss: 0.00044087792048230767\n",
      "Epoch: 42, Loss: 0.0004015614977106452\n",
      "Epoch: 43, Loss: 0.0006798239191994071\n",
      "Epoch: 44, Loss: 0.0004790063831023872\n",
      "Epoch: 45, Loss: 0.0007804592023603618\n",
      "Epoch: 46, Loss: 0.00042421167017892003\n",
      "Epoch: 47, Loss: 0.0005126958712935448\n",
      "Epoch: 48, Loss: 0.00042510428465902805\n",
      "Epoch: 49, Loss: 0.0006053918623365462\n"
     ]
    }
   ],
   "source": [
    "# Initialize a list to store the loss values\n",
    "train_losses_2 = []\n",
    "\n",
    "# Create a dataset\n",
    "dataset_2 = TensorDataset(x_train, err_train_auto_scaled, u_train)\n",
    "\n",
    "# Create a data loader\n",
    "data_loader_2 = DataLoader(dataset_2, batch_size=64, shuffle=True)\n",
    "\n",
    "\n",
    "for step in range(50):\n",
    "    for x_batch, y_batch, u_batch in data_loader_2:\n",
    "        # Forward propagation\n",
    "        optimizer.zero_grad()\n",
    "        koopman_pred = model_koopman(x_batch, y_batch, u_batch)\n",
    "        auto_pred = model_auto(x_batch)\n",
    "        predict_pred = model_predict(x_batch, u_batch)\n",
    "\n",
    "        loss = lambda_1 * mse_loss(koopman_pred, torch.zeros_like(koopman_pred)) \\\n",
    "               + lambda_2 * mse_loss(auto_pred, x_batch) \\\n",
    "               + lambda_3 * mse_loss(predict_pred, y_batch)\n",
    "\n",
    "        optimizer.zero_grad()\n",
    "        loss.backward()\n",
    "        optimizer.step()\n",
    "    \n",
    "    # Training Loss\n",
    "    koopman_pred = model_koopman(x_train, y_train, u_train)\n",
    "    auto_pred = model_auto(x_train)\n",
    "    predict_pred = model_predict(x_train, u_train)\n",
    "\n",
    "    loss = lambda_1 * mse_loss(koopman_pred, torch.zeros_like(koopman_pred)) \\\n",
    "               + lambda_2 * mse_loss(auto_pred, x_train) \\\n",
    "               + lambda_3 * mse_loss(predict_pred, y_train)        \n",
    "    train_losses_2.append(loss.item())\n",
    "        \n",
    "    print(f'Epoch: {step}, Loss: {loss.item()}')"
   ]
  },
  {
   "cell_type": "code",
   "execution_count": 62,
   "id": "85f996b8",
   "metadata": {},
   "outputs": [
    {
     "data": {
      "image/png": "[encoded data removed]",
      "text/plain": [
       "<Figure size 1000x500 with 1 Axes>"
      ]
     },
     "metadata": {},
     "output_type": "display_data"
    }
   ],
   "source": [
    "import matplotlib.pyplot as plt\n",
    "\n",
    "# Plot the training and validation losses\n",
    "plt.figure(figsize=(10,5))\n",
    "plt.plot(train_losses, label='Training Loss')\n",
    "plt.plot(val_losses, label='Validation Loss')\n",
    "plt.legend()\n",
    "plt.yscale('log')\n",
    "plt.show()"
   ]
  },
  {
   "cell_type": "code",
   "execution_count": 63,
   "id": "655b55b7",
   "metadata": {},
   "outputs": [
    {
     "data": {
      "image/png": "[encoded data removed]",
      "text/plain": [
       "<Figure size 1000x500 with 1 Axes>"
      ]
     },
     "metadata": {},
     "output_type": "display_data"
    }
   ],
   "source": [
    "import matplotlib.pyplot as plt\n",
    "\n",
    "# Plot the training and validation losses\n",
    "plt.figure(figsize=(10,5))\n",
    "plt.plot(train_losses_2, label='Training Loss')\n",
    "plt.legend()\n",
    "plt.yscale('log')\n",
    "plt.show()"
   ]
  },
  {
   "cell_type": "code",
   "execution_count": 64,
   "id": "0daba8dc",
   "metadata": {},
   "outputs": [],
   "source": [
    "x_dataset_scaled = [scaler_x.transform(x) for x in x_dataset]\n",
    "u_dataset_scaled = [scaler_u.transform(u) for u in u_dataset]"
   ]
  },
  {
   "cell_type": "code",
   "execution_count": 65,
   "id": "bfdb40b7",
   "metadata": {},
   "outputs": [],
   "source": [
    "para_k = model_koopman.Para_k"
   ]
  },
  {
   "cell_type": "code",
   "execution_count": 115,
   "id": "b8d7a385",
   "metadata": {},
   "outputs": [],
   "source": [
    "import torch\n",
    "\n",
    "def hybrid_predict(x0, u_data, steps, model_predict, K, scaler_x, scaler_u):\n",
    "    data_traj = []\n",
    "    x0 = x0.reshape((1,-1))\n",
    "\n",
    "    u_scaled_np = scaler_u.transform(u_data)\n",
    "    u_scaled = torch.from_numpy(u_scaled_np).float()\n",
    "        \n",
    "    data_traj.append(x0)\n",
    "    \n",
    "    for step in range(steps):\n",
    "        x0_scaled_np = scaler_x.transform(x0)\n",
    "        x0_scaled = torch.from_numpy(x0_scaled_np).float()\n",
    "\n",
    "        u_cur_scaled = u_scaled[step:step+1,:]\n",
    "        u_cur = u_data[step:step+1,:]\n",
    "        \n",
    "        with torch.no_grad():\n",
    "            y1_scaled = model_predict(x0_scaled, u_cur_scaled)\n",
    "        y1_scaled_np = y1_scaled.numpy()\n",
    "        y1_np = scaler_x.inverse_transform(y1_scaled_np)\n",
    "        \n",
    "#         print(y1_np)\n",
    "        \n",
    "        print(u_cur)\n",
    "        y2 = x0 @ K * u_cur[0, 0] \n",
    "        print(x0 * u_cur[0,0])\n",
    "        \n",
    "#         print(y2)\n",
    "        y = y1_np + y2\n",
    "        \n",
    "        data_traj.append(y)\n",
    "        x0 = y\n",
    "        \n",
    "    return data_traj, x0\n"
   ]
  },
  {
   "cell_type": "code",
   "execution_count": 116,
   "id": "e85e0cd3",
   "metadata": {},
   "outputs": [],
   "source": [
    "steps = 2"
   ]
  },
  {
   "cell_type": "code",
   "execution_count": 117,
   "id": "2629a826",
   "metadata": {},
   "outputs": [
    {
     "name": "stdout",
     "output_type": "stream",
     "text": [
      "0\n",
      "[[0.002 0.   ]]\n",
      "[[0. 0. 0. ... 0. 0. 0.]]\n",
      "[[2.00000000e-03 3.75999701e+01]]\n",
      "[[-1.03390932e-04 -1.06701897e-05  2.04795320e-06 ... -6.79401355e-06\n",
      "  -6.47026394e-06  4.56410050e-05]]\n"
     ]
    }
   ],
   "source": [
    "import numpy as np\n",
    "import torch\n",
    "\n",
    "pred_data_traj = []\n",
    "i = 0\n",
    "for x, u in zip(x_dataset, u_dataset):\n",
    "    print(i)\n",
    "    i = i+1\n",
    "    x_pred_traj, x0 = hybrid_predict(x[0, :], u, steps, model_predict, K, scaler_x, scaler_u)\n",
    "    x_pred_traj = np.concatenate(x_pred_traj, axis=0)\n",
    "    pred_data_traj.append(x_pred_traj)\n",
    "    break"
   ]
  },
  {
   "cell_type": "code",
   "execution_count": 78,
   "id": "32d80c1c",
   "metadata": {},
   "outputs": [],
   "source": [
    "errors = [pred_data_traj[i] - x_dataset[i][:51, :] for i in range(len(pred_data_traj))]\n",
    "\n",
    "# Calculate the norm of the error for each element\n",
    "error_norms = [np.linalg.norm(errors[i], axis=1) for i in range(len(errors))]\n",
    "\n",
    "# Calculate the norm of the original data for each element\n",
    "data_norms = [np.linalg.norm(x_dataset[i]) for i in range(len(x_dataset))]\n",
    "\n",
    "\n",
    "# Calculate the ratio of the error norm to the data norm for each element\n",
    "relative_errors = [error_norms[i] / data_norms[i] for i in range(len(errors))]\n",
    "\n",
    "# Calculate the mean and standard deviation of the relative errors for each element\n",
    "mean_relative_errors = np.mean(relative_errors, axis=0)\n",
    "std_relative_errors = np.std(relative_errors, axis=0)"
   ]
  },
  {
   "cell_type": "code",
   "execution_count": 89,
   "id": "ff7b4044",
   "metadata": {},
   "outputs": [
    {
     "data": {
      "image/png": "[encoded data removed]",
      "text/plain": [
       "<Figure size 1000x600 with 1 Axes>"
      ]
     },
     "metadata": {},
     "output_type": "display_data"
    }
   ],
   "source": [
    "# Plot the relative error with error bars\n",
    "plt.figure(figsize=(10, 6))\n",
    "plt.errorbar(range(3), mean_relative_errors[:3], yerr=std_relative_errors[:3], fmt='-o')\n",
    "plt.xlabel('Index')\n",
    "plt.ylabel('Relative Error')\n",
    "plt.title('Relative Error with Error Bars')\n",
    "plt.grid(True)\n",
    "plt.show()"
   ]
  },
  {
   "cell_type": "code",
   "execution_count": 80,
   "id": "bfe7b824",
   "metadata": {},
   "outputs": [],
   "source": [
    "domain_error_norms = [np.linalg.norm(errors[i]) for i in range(len(x_dataset))]\n",
    "domain_relative_error = [domain_error_norms[i]/data_norms[i] for i in range(len(domain_error_norms))]"
   ]
  },
  {
   "cell_type": "code",
   "execution_count": 81,
   "id": "d6ae54fd",
   "metadata": {},
   "outputs": [
    {
     "data": {
      "text/plain": [
       "nan"
      ]
     },
     "execution_count": 81,
     "metadata": {},
     "output_type": "execute_result"
    }
   ],
   "source": [
    "np.mean(domain_relative_error)"
   ]
  },
  {
   "cell_type": "code",
   "execution_count": 82,
   "id": "f15208cb",
   "metadata": {},
   "outputs": [
    {
     "data": {
      "text/plain": [
       "nan"
      ]
     },
     "execution_count": 82,
     "metadata": {},
     "output_type": "execute_result"
    }
   ],
   "source": [
    "np.std(domain_relative_error)"
   ]
  },
  {
   "cell_type": "code",
   "execution_count": null,
   "id": "45926eb1",
   "metadata": {},
   "outputs": [],
   "source": []
  },
  {
   "cell_type": "code",
   "execution_count": null,
   "id": "33870f22",
   "metadata": {},
   "outputs": [],
   "source": []
  }
 ],
 "metadata": {
  "kernelspec": {
   "display_name": "torch",
   "language": "python",
   "name": "python3"
  },
  "language_info": {
   "codemirror_mode": {
    "name": "ipython",
    "version": 3
   },
   "file_extension": ".py",
   "mimetype": "text/x-python",
   "name": "python",
   "nbconvert_exporter": "python",
   "pygments_lexer": "ipython3",
   "version": "3.9.17"
  }
 },
 "nbformat": 4,
 "nbformat_minor": 5
}
