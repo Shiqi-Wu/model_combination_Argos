{
 "cells": [
  {
   "cell_type": "code",
   "execution_count": 1,
   "id": "c071812e",
   "metadata": {},
   "outputs": [],
   "source": [
    "import numpy as np\n",
    "import torch\n",
    "from koopman_autoencoder import *"
   ]
  },
  {
   "cell_type": "markdown",
   "id": "a73b8b71",
   "metadata": {},
   "source": [
    "## Load dataset"
   ]
  },
  {
   "cell_type": "code",
   "execution_count": 17,
   "id": "d762dbcc",
   "metadata": {},
   "outputs": [],
   "source": [
    "data_file_path = '../data/data_dict_10.npy'\n",
    "data_dict = np.load(data_file_path, allow_pickle = True).item()\n"
   ]
  },
  {
   "cell_type": "code",
   "execution_count": 18,
   "id": "a105a84f",
   "metadata": {},
   "outputs": [],
   "source": [
    "time = []\n",
    "data = []\n",
    "I_p = []\n",
    "\n",
    "for index, contents in data_dict.items():\n",
    "    time.append(contents['time'])\n",
    "    data.append(contents['data'])\n",
    "    I_p.append(contents['I_p'])"
   ]
  },
  {
   "cell_type": "code",
   "execution_count": 19,
   "id": "0595e6e9",
   "metadata": {},
   "outputs": [
    {
     "data": {
      "text/plain": [
       "151"
      ]
     },
     "execution_count": 19,
     "metadata": {},
     "output_type": "execute_result"
    }
   ],
   "source": [
    "len(data)"
   ]
  },
  {
   "cell_type": "code",
   "execution_count": null,
   "id": "91a434cd",
   "metadata": {},
   "outputs": [],
   "source": [
    "suffixs = [10, 20, 30, 40, 50]"
   ]
  }
 ],
 "metadata": {
  "kernelspec": {
   "display_name": "Python [conda env:torch] *",
   "language": "python",
   "name": "conda-env-torch-py"
  },
  "language_info": {
   "codemirror_mode": {
    "name": "ipython",
    "version": 3
   },
   "file_extension": ".py",
   "mimetype": "text/x-python",
   "name": "python",
   "nbconvert_exporter": "python",
   "pygments_lexer": "ipython3",
   "version": "3.9.17"
  }
 },
 "nbformat": 4,
 "nbformat_minor": 5
}
