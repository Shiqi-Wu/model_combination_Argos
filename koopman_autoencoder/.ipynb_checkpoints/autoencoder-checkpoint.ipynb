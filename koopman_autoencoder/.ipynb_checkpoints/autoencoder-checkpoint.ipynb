{
 "cells": [
  {
   "cell_type": "code",
   "execution_count": 87,
   "id": "828d6236",
   "metadata": {},
   "outputs": [
    {
     "data": {
      "text/html": [
       "<style type='text/css'>\n",
       ".CodeMirror{\n",
       "font-size: 22px;\n",
       "</style>\n"
      ],
      "text/plain": [
       "<IPython.core.display.HTML object>"
      ]
     },
     "metadata": {},
     "output_type": "display_data"
    }
   ],
   "source": [
    "%%html\n",
    "<style type='text/css'>\n",
    ".CodeMirror{\n",
    "font-size: 22px;\n",
    "</style>"
   ]
  },
  {
   "cell_type": "code",
   "execution_count": 88,
   "id": "c475b1d5",
   "metadata": {},
   "outputs": [
    {
     "name": "stdout",
     "output_type": "stream",
     "text": [
      "The autoreload extension is already loaded. To reload it, use:\n",
      "  %reload_ext autoreload\n"
     ]
    }
   ],
   "source": [
    "%load_ext autoreload\n",
    "%autoreload 2"
   ]
  },
  {
   "cell_type": "code",
   "execution_count": 89,
   "id": "c071812e",
   "metadata": {},
   "outputs": [],
   "source": [
    "import numpy as np\n",
    "import torch\n",
    "from koopman_autoencoder import *"
   ]
  },
  {
   "cell_type": "code",
   "execution_count": 90,
   "id": "22eed0b3",
   "metadata": {},
   "outputs": [],
   "source": [
    "if torch.cuda.is_available():\n",
    "    device = torch.device('cuda:3')\n",
    "else:\n",
    "    device = torch.device('cpu')"
   ]
  },
  {
   "cell_type": "markdown",
   "id": "a73b8b71",
   "metadata": {},
   "source": [
    "## Load dataset"
   ]
  },
  {
   "cell_type": "code",
   "execution_count": 91,
   "id": "d2c47f74",
   "metadata": {},
   "outputs": [],
   "source": [
    "def build_dataset(data_dict):\n",
    "    time = []\n",
    "    data = []\n",
    "    I_p = []\n",
    "    for index, contents in data_dict.items():\n",
    "        time.append(contents['time'])\n",
    "        data.append(contents['data'])\n",
    "        I_p.append(contents['I_p'])\n",
    "    \n",
    "    data = np.array(data)\n",
    "    x_data = data[:-1,:]\n",
    "    y_data = data[1:,:]\n",
    "    dt_data = (time[1] - time[0]) * np.ones((data.shape[0] -1 , 1))\n",
    "    I_p = np.reshape(np.array(I_p)[:-1], (-1,1))\n",
    "    u_data = np.concatenate((dt_data, I_p), axis = 1)\n",
    "    return x_data, y_data, u_data"
   ]
  },
  {
   "cell_type": "code",
   "execution_count": 92,
   "id": "91a434cd",
   "metadata": {},
   "outputs": [
    {
     "name": "stdout",
     "output_type": "stream",
     "text": [
      "File not found: ../data/data_dict_25.npy\n",
      "File not found: ../data/data_dict_44.npy\n"
     ]
    }
   ],
   "source": [
    "import numpy as np\n",
    "import os\n",
    "\n",
    "x_dataset = []\n",
    "y_dataset = []\n",
    "u_dataset = []\n",
    "\n",
    "for suffix in range(10, 60):\n",
    "    data_file_path = '../data/data_dict_' + str(suffix) + '.npy'\n",
    "        \n",
    "    # Check if the file exists before trying to load it\n",
    "    if os.path.exists(data_file_path):\n",
    "        data_dict = np.load(data_file_path, allow_pickle=True).item()\n",
    "        x_data, y_data, u_data = build_dataset(data_dict)\n",
    "        x_dataset.append(x_data)\n",
    "        y_dataset.append(y_data)\n",
    "        u_dataset.append(u_data)\n",
    "    else:\n",
    "        print(f\"File not found: {data_file_path}\")\n"
   ]
  },
  {
   "cell_type": "code",
   "execution_count": 93,
   "id": "b6a69a12",
   "metadata": {},
   "outputs": [
    {
     "data": {
      "text/plain": [
       "(7221, 6957)"
      ]
     },
     "execution_count": 93,
     "metadata": {},
     "output_type": "execute_result"
    }
   ],
   "source": [
    "x_data = np.concatenate(x_dataset, axis = 0)\n",
    "y_data = np.concatenate(y_dataset, axis = 0)\n",
    "u_data = np.concatenate(u_dataset, axis = 0)\n",
    "x_data.shape"
   ]
  },
  {
   "cell_type": "code",
   "execution_count": 94,
   "id": "7bd164a9",
   "metadata": {},
   "outputs": [],
   "source": [
    "from sklearn.preprocessing import StandardScaler\n",
    "from sklearn.model_selection import train_test_split\n",
    "import numpy as np\n",
    "\n",
    "\n",
    "# Scaling the datasets\n",
    "scaler_x = StandardScaler().fit(x_data)\n",
    "scaler_u = StandardScaler().fit(u_data)\n",
    "\n",
    "x_data_scaled = scaler_x.transform(x_data)\n",
    "y_data_scaled = scaler_x.transform(y_data)\n",
    "u_data_scaled = scaler_u.transform(u_data)\n",
    "\n",
    "shuffled_indices = np.arange(len(x_data))\n",
    "np.random.shuffle(shuffled_indices)\n",
    "\n",
    "x_data_scaled = x_data_scaled[shuffled_indices]\n",
    "y_data_scaled = y_data_scaled[shuffled_indices]\n",
    "u_data_scaled = u_data_scaled[shuffled_indices]\n",
    "\n",
    "x_train, x_test = train_test_split(x_data_scaled, test_size=0.2, random_state=42)\n",
    "y_train, y_test = train_test_split(y_data_scaled, test_size=0.2, random_state=42)\n",
    "u_train, u_test = train_test_split(u_data_scaled, test_size=0.2, random_state=42)\n"
   ]
  },
  {
   "cell_type": "code",
   "execution_count": 95,
   "id": "44b440b9",
   "metadata": {},
   "outputs": [],
   "source": [
    "n_input = x_data.shape[1]\n",
    "layer_sizes_dic = [64, 128, 128, 512]\n",
    "layer_sizes_k = [64, 128, 64]\n",
    "\n",
    "n_psi_train = 256\n",
    "u_dim = 2\n",
    "\n",
    "model_psi, model_koopman, model_inv_psi, model_predict, model_auto \\\n",
    "= Build_model(n_input, layer_sizes_dic, layer_sizes_k, n_psi_train, u_dim, para = True)"
   ]
  },
  {
   "cell_type": "code",
   "execution_count": 96,
   "id": "375bb150",
   "metadata": {},
   "outputs": [],
   "source": [
    "import torch\n",
    "from torch.optim import Adam\n",
    "from torch.utils.data import DataLoader, TensorDataset\n",
    "\n",
    "x_train = torch.tensor(x_train, dtype=torch.float32)\n",
    "y_train = torch.tensor(y_train, dtype=torch.float32)\n",
    "u_train = torch.tensor(u_train, dtype=torch.float32)\n",
    "x_test = torch.tensor(x_test, dtype=torch.float32)\n",
    "y_test = torch.tensor(y_test, dtype=torch.float32)\n",
    "u_test = torch.tensor(u_test, dtype=torch.float32)\n",
    "\n",
    "# Create a dataset\n",
    "dataset = TensorDataset(x_train, y_train, u_train)\n",
    "\n",
    "# Create a data loader\n",
    "data_loader = DataLoader(dataset, batch_size=64, shuffle=True)\n",
    "\n",
    "# Define the optimizer\n",
    "optimizer = Adam(list(model_koopman.parameters()) + \n",
    "                       list(model_inv_psi.parameters()), lr=0.0001)\n",
    "\n",
    "mse_loss = nn.MSELoss()\n",
    "\n",
    "lambda_1 = 1.0\n",
    "lambda_2 = 1.0\n",
    "lambda_3 = 1.0\n"
   ]
  },
  {
   "cell_type": "code",
   "execution_count": 97,
   "id": "3e5db55b",
   "metadata": {},
   "outputs": [
    {
     "name": "stdout",
     "output_type": "stream",
     "text": [
      "Epoch: 0, Loss: 1.3643289804458618\n",
      "Epoch: 0, Loss: 1.3760247230529785\n",
      "Epoch: 1, Loss: 0.9396843910217285\n",
      "Epoch: 1, Loss: 0.9518365263938904\n",
      "Epoch: 2, Loss: 0.8347877264022827\n",
      "Epoch: 2, Loss: 0.8461456298828125\n",
      "Epoch: 3, Loss: 0.623409628868103\n",
      "Epoch: 3, Loss: 0.6318671107292175\n",
      "Epoch: 4, Loss: 0.4422447085380554\n",
      "Epoch: 4, Loss: 0.4479812979698181\n",
      "Epoch: 5, Loss: 0.2828042507171631\n",
      "Epoch: 5, Loss: 0.2869006395339966\n",
      "Epoch: 6, Loss: 0.192340686917305\n",
      "Epoch: 6, Loss: 0.19527098536491394\n",
      "Epoch: 7, Loss: 0.15078383684158325\n",
      "Epoch: 7, Loss: 0.15289464592933655\n",
      "Epoch: 8, Loss: 0.12292397022247314\n",
      "Epoch: 8, Loss: 0.12487958371639252\n",
      "Epoch: 9, Loss: 0.11281725764274597\n",
      "Epoch: 9, Loss: 0.11428672820329666\n",
      "Epoch: 10, Loss: 0.1002466082572937\n",
      "Epoch: 10, Loss: 0.10205407440662384\n",
      "Epoch: 11, Loss: 0.095011405646801\n",
      "Epoch: 11, Loss: 0.09684376418590546\n",
      "Epoch: 12, Loss: 0.08838658034801483\n",
      "Epoch: 12, Loss: 0.09007765352725983\n",
      "Epoch: 13, Loss: 0.0814317911863327\n",
      "Epoch: 13, Loss: 0.08298653364181519\n",
      "Epoch: 14, Loss: 0.07113847881555557\n",
      "Epoch: 14, Loss: 0.07206584513187408\n",
      "Epoch: 15, Loss: 0.05603977292776108\n",
      "Epoch: 15, Loss: 0.05646171793341637\n",
      "Epoch: 16, Loss: 0.043965063989162445\n",
      "Epoch: 16, Loss: 0.04401146620512009\n",
      "Epoch: 17, Loss: 0.03499636799097061\n",
      "Epoch: 17, Loss: 0.034889329224824905\n",
      "Epoch: 18, Loss: 0.030091170221567154\n",
      "Epoch: 18, Loss: 0.029830215498805046\n",
      "Epoch: 19, Loss: 0.025615748018026352\n",
      "Epoch: 19, Loss: 0.025327477604150772\n",
      "Epoch: 20, Loss: 0.022916141897439957\n",
      "Epoch: 20, Loss: 0.022581763565540314\n",
      "Epoch: 21, Loss: 0.020674536004662514\n",
      "Epoch: 21, Loss: 0.02035795897245407\n",
      "Epoch: 22, Loss: 0.01949097216129303\n",
      "Epoch: 22, Loss: 0.019224079325795174\n",
      "Epoch: 23, Loss: 0.019071634858846664\n",
      "Epoch: 23, Loss: 0.0187974963337183\n",
      "Epoch: 24, Loss: 0.01682848483324051\n",
      "Epoch: 24, Loss: 0.01658165454864502\n",
      "Epoch: 25, Loss: 0.016201181337237358\n",
      "Epoch: 25, Loss: 0.015978999435901642\n",
      "Epoch: 26, Loss: 0.015150375664234161\n",
      "Epoch: 26, Loss: 0.014923137612640858\n",
      "Epoch: 27, Loss: 0.015659427270293236\n",
      "Epoch: 27, Loss: 0.01549371425062418\n",
      "Epoch: 28, Loss: 0.014138384722173214\n",
      "Epoch: 28, Loss: 0.014008761383593082\n",
      "Epoch: 29, Loss: 0.012987164780497551\n",
      "Epoch: 29, Loss: 0.012832654640078545\n",
      "Epoch: 30, Loss: 0.012510289438068867\n",
      "Epoch: 30, Loss: 0.012377538718283176\n",
      "Epoch: 31, Loss: 0.013073856942355633\n",
      "Epoch: 31, Loss: 0.012910662218928337\n",
      "Epoch: 32, Loss: 0.010764693841338158\n",
      "Epoch: 32, Loss: 0.010628897696733475\n",
      "Epoch: 33, Loss: 0.010723963379859924\n",
      "Epoch: 33, Loss: 0.010583126917481422\n",
      "Epoch: 34, Loss: 0.009734101593494415\n",
      "Epoch: 34, Loss: 0.009578123688697815\n",
      "Epoch: 35, Loss: 0.009788351133465767\n",
      "Epoch: 35, Loss: 0.009697381407022476\n",
      "Epoch: 36, Loss: 0.008573141880333424\n",
      "Epoch: 36, Loss: 0.008450637571513653\n",
      "Epoch: 37, Loss: 0.007620423100888729\n",
      "Epoch: 37, Loss: 0.007522749714553356\n",
      "Epoch: 38, Loss: 0.008995722979307175\n",
      "Epoch: 38, Loss: 0.008930118754506111\n",
      "Epoch: 39, Loss: 0.006899693980813026\n",
      "Epoch: 39, Loss: 0.0068069687113165855\n",
      "Epoch: 40, Loss: 0.007486071437597275\n",
      "Epoch: 40, Loss: 0.0074910009279847145\n",
      "Epoch: 41, Loss: 0.0065020602196455\n",
      "Epoch: 41, Loss: 0.006405508145689964\n",
      "Epoch: 42, Loss: 0.00705545162782073\n",
      "Epoch: 42, Loss: 0.006992902606725693\n",
      "Epoch: 43, Loss: 0.005715227220207453\n",
      "Epoch: 43, Loss: 0.005630870349705219\n",
      "Epoch: 44, Loss: 0.005696668289601803\n",
      "Epoch: 44, Loss: 0.005612625274807215\n",
      "Epoch: 45, Loss: 0.005572032183408737\n",
      "Epoch: 45, Loss: 0.005467257462441921\n",
      "Epoch: 46, Loss: 0.005535454489290714\n",
      "Epoch: 46, Loss: 0.005521547980606556\n",
      "Epoch: 47, Loss: 0.005237019620835781\n",
      "Epoch: 47, Loss: 0.0051782261580228806\n",
      "Epoch: 48, Loss: 0.005384479649364948\n",
      "Epoch: 48, Loss: 0.0053648557513952255\n",
      "Epoch: 49, Loss: 0.005045478232204914\n",
      "Epoch: 49, Loss: 0.004983364604413509\n",
      "Epoch: 50, Loss: 0.005935151129961014\n",
      "Epoch: 50, Loss: 0.005834798328578472\n",
      "Epoch: 51, Loss: 0.0046785930171608925\n",
      "Epoch: 51, Loss: 0.004604788031429052\n",
      "Epoch: 52, Loss: 0.004520393908023834\n",
      "Epoch: 52, Loss: 0.004451238550245762\n",
      "Epoch: 53, Loss: 0.004269663244485855\n",
      "Epoch: 53, Loss: 0.004210005514323711\n",
      "Epoch: 54, Loss: 0.00449141301214695\n",
      "Epoch: 54, Loss: 0.004407319240272045\n",
      "Epoch: 55, Loss: 0.0041555361822247505\n",
      "Epoch: 55, Loss: 0.004105748143047094\n",
      "Epoch: 56, Loss: 0.004397118929773569\n",
      "Epoch: 56, Loss: 0.004313161596655846\n",
      "Epoch: 57, Loss: 0.004045674577355385\n",
      "Epoch: 57, Loss: 0.004000665619969368\n",
      "Epoch: 58, Loss: 0.003854112233966589\n",
      "Epoch: 58, Loss: 0.0037868106737732887\n",
      "Epoch: 59, Loss: 0.0037371134385466576\n",
      "Epoch: 59, Loss: 0.0036792417522519827\n",
      "Epoch: 60, Loss: 0.003599515650421381\n",
      "Epoch: 60, Loss: 0.00355119863525033\n",
      "Epoch: 61, Loss: 0.0037822225131094456\n",
      "Epoch: 61, Loss: 0.0037253727205097675\n",
      "Epoch: 62, Loss: 0.0048995609395205975\n",
      "Epoch: 62, Loss: 0.00487371813505888\n",
      "Epoch: 63, Loss: 0.003684554249048233\n",
      "Epoch: 63, Loss: 0.003644848708063364\n",
      "Epoch: 64, Loss: 0.003402379807084799\n",
      "Epoch: 64, Loss: 0.003343175631016493\n",
      "Epoch: 65, Loss: 0.003274876158684492\n",
      "Epoch: 65, Loss: 0.003219128353521228\n",
      "Epoch: 66, Loss: 0.004057763144373894\n",
      "Epoch: 66, Loss: 0.0039700912311673164\n",
      "Epoch: 67, Loss: 0.0032587903551757336\n",
      "Epoch: 67, Loss: 0.003210820257663727\n",
      "Epoch: 68, Loss: 0.003531672526150942\n",
      "Epoch: 68, Loss: 0.003481057472527027\n",
      "Epoch: 69, Loss: 0.0031529609113931656\n",
      "Epoch: 69, Loss: 0.003086662385612726\n",
      "Epoch: 70, Loss: 0.00325982179492712\n",
      "Epoch: 70, Loss: 0.00321116391569376\n",
      "Epoch: 71, Loss: 0.0029660500586032867\n",
      "Epoch: 71, Loss: 0.002915786113590002\n",
      "Epoch: 72, Loss: 0.0031669067684561014\n",
      "Epoch: 72, Loss: 0.0031194661278277636\n",
      "Epoch: 73, Loss: 0.0029899796936661005\n",
      "Epoch: 73, Loss: 0.002961025107651949\n",
      "Epoch: 74, Loss: 0.003821286838501692\n",
      "Epoch: 74, Loss: 0.003810022957623005\n",
      "Epoch: 75, Loss: 0.003052064683288336\n",
      "Epoch: 75, Loss: 0.002992269117385149\n",
      "Epoch: 76, Loss: 0.0027236388996243477\n",
      "Epoch: 76, Loss: 0.0026799007318913937\n",
      "Epoch: 77, Loss: 0.0026116338558495045\n",
      "Epoch: 77, Loss: 0.0025498108007013798\n",
      "Epoch: 78, Loss: 0.003382475581020117\n",
      "Epoch: 78, Loss: 0.003285751212388277\n",
      "Epoch: 79, Loss: 0.002578339073807001\n",
      "Epoch: 79, Loss: 0.0025268178433179855\n",
      "Epoch: 80, Loss: 0.0025942737702280283\n",
      "Epoch: 80, Loss: 0.0025448035448789597\n",
      "Epoch: 81, Loss: 0.002404876286163926\n",
      "Epoch: 81, Loss: 0.002385110594332218\n",
      "Epoch: 82, Loss: 0.0026289476081728935\n",
      "Epoch: 82, Loss: 0.002615962643176317\n",
      "Epoch: 83, Loss: 0.0022029250394552946\n",
      "Epoch: 83, Loss: 0.002157011069357395\n",
      "Epoch: 84, Loss: 0.0022650593891739845\n",
      "Epoch: 84, Loss: 0.0022313029039651155\n",
      "Epoch: 85, Loss: 0.0020579290576279163\n",
      "Epoch: 85, Loss: 0.002036499325186014\n",
      "Epoch: 86, Loss: 0.002249510958790779\n",
      "Epoch: 86, Loss: 0.002208535559475422\n",
      "Epoch: 87, Loss: 0.0018668057164177299\n",
      "Epoch: 87, Loss: 0.0018302665557712317\n",
      "Epoch: 88, Loss: 0.002318896818906069\n",
      "Epoch: 88, Loss: 0.002290183212608099\n",
      "Epoch: 89, Loss: 0.002830753568559885\n",
      "Epoch: 89, Loss: 0.0027244025841355324\n",
      "Epoch: 90, Loss: 0.0018141285981982946\n",
      "Epoch: 90, Loss: 0.0017588224727660418\n",
      "Epoch: 91, Loss: 0.0016074634622782469\n",
      "Epoch: 91, Loss: 0.0015697944909334183\n",
      "Epoch: 92, Loss: 0.0021034441888332367\n",
      "Epoch: 92, Loss: 0.0021217702887952328\n",
      "Epoch: 93, Loss: 0.001962202601134777\n",
      "Epoch: 93, Loss: 0.001914309454150498\n",
      "Epoch: 94, Loss: 0.0018206567037850618\n",
      "Epoch: 94, Loss: 0.0018106295028701425\n",
      "Epoch: 95, Loss: 0.0020173187367618084\n",
      "Epoch: 95, Loss: 0.001980938483029604\n",
      "Epoch: 96, Loss: 0.0016264404403045774\n",
      "Epoch: 96, Loss: 0.0016063693910837173\n",
      "Epoch: 97, Loss: 0.001601286232471466\n",
      "Epoch: 97, Loss: 0.0015683890087530017\n",
      "Epoch: 98, Loss: 0.0019991202279925346\n",
      "Epoch: 98, Loss: 0.0019990336149930954\n",
      "Epoch: 99, Loss: 0.0016851660329848528\n",
      "Epoch: 99, Loss: 0.0016637975350022316\n",
      "Epoch: 100, Loss: 0.0017989079933613539\n",
      "Epoch: 100, Loss: 0.001765501219779253\n",
      "Epoch: 101, Loss: 0.0014452084433287382\n",
      "Epoch: 101, Loss: 0.0014157280093058944\n",
      "Epoch: 102, Loss: 0.0014205578481778502\n",
      "Epoch: 102, Loss: 0.0013814668636769056\n",
      "Epoch: 103, Loss: 0.0013804063200950623\n",
      "Epoch: 103, Loss: 0.0013339514844119549\n",
      "Epoch: 104, Loss: 0.0021555963903665543\n",
      "Epoch: 104, Loss: 0.0021145036444067955\n",
      "Epoch: 105, Loss: 0.0014330632984638214\n",
      "Epoch: 105, Loss: 0.0014200769364833832\n",
      "Epoch: 106, Loss: 0.001376084634102881\n",
      "Epoch: 106, Loss: 0.0013508691918104887\n",
      "Epoch: 107, Loss: 0.002604045905172825\n",
      "Epoch: 107, Loss: 0.0025565912947058678\n"
     ]
    },
    {
     "name": "stdout",
     "output_type": "stream",
     "text": [
      "Epoch: 108, Loss: 0.0013328625354915857\n",
      "Epoch: 108, Loss: 0.0012901178561151028\n",
      "Epoch: 109, Loss: 0.00112028862349689\n",
      "Epoch: 109, Loss: 0.0010978712234646082\n",
      "Epoch: 110, Loss: 0.0012600261252373457\n",
      "Epoch: 110, Loss: 0.0012239922070875764\n",
      "Epoch: 111, Loss: 0.0017053182236850262\n",
      "Epoch: 111, Loss: 0.0016691202763468027\n",
      "Epoch: 112, Loss: 0.0015537131112068892\n",
      "Epoch: 112, Loss: 0.0015195664018392563\n",
      "Epoch: 113, Loss: 0.0010281364666298032\n",
      "Epoch: 113, Loss: 0.0009901642333716154\n",
      "Epoch: 114, Loss: 0.0012277391506358981\n",
      "Epoch: 114, Loss: 0.0012136527802795172\n",
      "Epoch: 115, Loss: 0.0023967039305716753\n",
      "Epoch: 115, Loss: 0.0024443897418677807\n",
      "Epoch: 116, Loss: 0.0016354257240891457\n",
      "Epoch: 116, Loss: 0.0016029194230213761\n",
      "Epoch: 117, Loss: 0.0010145733831450343\n",
      "Epoch: 117, Loss: 0.0009751878678798676\n",
      "Epoch: 118, Loss: 0.0011239615269005299\n",
      "Epoch: 118, Loss: 0.001110427314415574\n",
      "Epoch: 119, Loss: 0.0033383157569915056\n",
      "Epoch: 119, Loss: 0.0033699870109558105\n",
      "Epoch: 120, Loss: 0.0011880795937031507\n",
      "Epoch: 120, Loss: 0.0011495612561702728\n",
      "Epoch: 121, Loss: 0.0009022807935252786\n",
      "Epoch: 121, Loss: 0.0008648888906463981\n",
      "Epoch: 122, Loss: 0.0010346455965191126\n",
      "Epoch: 122, Loss: 0.001022240612655878\n",
      "Epoch: 123, Loss: 0.0011188420467078686\n",
      "Epoch: 123, Loss: 0.0010787416249513626\n",
      "Epoch: 124, Loss: 0.001307806232944131\n",
      "Epoch: 124, Loss: 0.0012730672024190426\n",
      "Epoch: 125, Loss: 0.0012264424003660679\n",
      "Epoch: 125, Loss: 0.0011910856701433659\n",
      "Epoch: 126, Loss: 0.0010984218679368496\n",
      "Epoch: 126, Loss: 0.0010676267556846142\n",
      "Epoch: 127, Loss: 0.0010836728615686297\n",
      "Epoch: 127, Loss: 0.0010607920121401548\n",
      "Epoch: 128, Loss: 0.0008922498673200607\n",
      "Epoch: 128, Loss: 0.0008708412060514092\n",
      "Epoch: 129, Loss: 0.0011622036108747125\n",
      "Epoch: 129, Loss: 0.001152204116806388\n",
      "Epoch: 130, Loss: 0.0021728966385126114\n",
      "Epoch: 130, Loss: 0.002128117484971881\n",
      "Epoch: 131, Loss: 0.0009089878294616938\n",
      "Epoch: 131, Loss: 0.0008830747683532536\n",
      "Epoch: 132, Loss: 0.0008025728166103363\n",
      "Epoch: 132, Loss: 0.0007670635241083801\n",
      "Epoch: 133, Loss: 0.0008253877167589962\n",
      "Epoch: 133, Loss: 0.0008053431520238519\n",
      "Epoch: 134, Loss: 0.0010848345700651407\n",
      "Epoch: 134, Loss: 0.0010726186446845531\n",
      "Epoch: 135, Loss: 0.0013403724879026413\n",
      "Epoch: 135, Loss: 0.0013687644386664033\n",
      "Epoch: 136, Loss: 0.0008424798725172877\n",
      "Epoch: 136, Loss: 0.0008078700629994273\n",
      "Epoch: 137, Loss: 0.0008667770307511091\n",
      "Epoch: 137, Loss: 0.0008515622466802597\n",
      "Epoch: 138, Loss: 0.0009708285797387362\n",
      "Epoch: 138, Loss: 0.0009424321469850838\n",
      "Epoch: 139, Loss: 0.0009516836144030094\n",
      "Epoch: 139, Loss: 0.0009282347746193409\n",
      "Epoch: 140, Loss: 0.0007821510662324727\n",
      "Epoch: 140, Loss: 0.0007497307378798723\n",
      "Epoch: 141, Loss: 0.00168884068261832\n",
      "Epoch: 141, Loss: 0.0016479732003062963\n",
      "Epoch: 142, Loss: 0.0007835960714146495\n",
      "Epoch: 142, Loss: 0.0007582427933812141\n",
      "Epoch: 143, Loss: 0.000830805511213839\n",
      "Epoch: 143, Loss: 0.0008132308721542358\n",
      "Epoch: 144, Loss: 0.001362234354019165\n",
      "Epoch: 144, Loss: 0.0013865121873095632\n",
      "Epoch: 145, Loss: 0.0013591265305876732\n",
      "Epoch: 145, Loss: 0.0013159099034965038\n",
      "Epoch: 146, Loss: 0.0007382336771115661\n",
      "Epoch: 146, Loss: 0.0007088124984875321\n",
      "Epoch: 147, Loss: 0.0007242325227707624\n",
      "Epoch: 147, Loss: 0.0006911488017067313\n",
      "Epoch: 148, Loss: 0.0005998685956001282\n",
      "Epoch: 148, Loss: 0.0005710822879336774\n",
      "Epoch: 149, Loss: 0.0007051125867292285\n",
      "Epoch: 149, Loss: 0.0006749627063982189\n",
      "Epoch: 150, Loss: 0.0006456318078562617\n",
      "Epoch: 150, Loss: 0.000615525699686259\n",
      "Epoch: 151, Loss: 0.0008247342193499207\n",
      "Epoch: 151, Loss: 0.0007986216223798692\n",
      "Epoch: 152, Loss: 0.0011715097352862358\n",
      "Epoch: 152, Loss: 0.0011667665094137192\n",
      "Epoch: 153, Loss: 0.0006812060601077974\n",
      "Epoch: 153, Loss: 0.0006495906272903085\n",
      "Epoch: 154, Loss: 0.0008052429184317589\n",
      "Epoch: 154, Loss: 0.000791343511082232\n",
      "Epoch: 155, Loss: 0.000795320956967771\n",
      "Epoch: 155, Loss: 0.0007634470239281654\n",
      "Epoch: 156, Loss: 0.0007872158894315362\n",
      "Epoch: 156, Loss: 0.0007718458073213696\n",
      "Epoch: 157, Loss: 0.0006921989843249321\n",
      "Epoch: 157, Loss: 0.000657659606076777\n",
      "Epoch: 158, Loss: 0.000797953805886209\n",
      "Epoch: 158, Loss: 0.0007722954615019262\n",
      "Epoch: 159, Loss: 0.0008448759326711297\n",
      "Epoch: 159, Loss: 0.0008316091261804104\n",
      "Epoch: 160, Loss: 0.0007656349334865808\n",
      "Epoch: 160, Loss: 0.0007457392057403922\n",
      "Epoch: 161, Loss: 0.0005982244620099664\n",
      "Epoch: 161, Loss: 0.0005679485620930791\n",
      "Epoch: 162, Loss: 0.0008246832876466215\n",
      "Epoch: 162, Loss: 0.0007827542722225189\n",
      "Epoch: 163, Loss: 0.0014262807089835405\n",
      "Epoch: 163, Loss: 0.0013473941944539547\n",
      "Epoch: 164, Loss: 0.0006989907706156373\n",
      "Epoch: 164, Loss: 0.0006776172667741776\n",
      "Epoch: 165, Loss: 0.0016713219229131937\n",
      "Epoch: 165, Loss: 0.0016523203812539577\n",
      "Epoch: 166, Loss: 0.000697867595590651\n",
      "Epoch: 166, Loss: 0.0006697685457766056\n",
      "Epoch: 167, Loss: 0.000541019020602107\n",
      "Epoch: 167, Loss: 0.0005098077235743403\n",
      "Epoch: 168, Loss: 0.0004987857537344098\n",
      "Epoch: 168, Loss: 0.00047299294965341687\n",
      "Epoch: 169, Loss: 0.00071586889680475\n",
      "Epoch: 169, Loss: 0.0006822642171755433\n",
      "Epoch: 170, Loss: 0.0006659476202912629\n",
      "Epoch: 170, Loss: 0.0006412856164388359\n",
      "Epoch: 171, Loss: 0.0006100996397435665\n",
      "Epoch: 171, Loss: 0.0005884041311219335\n",
      "Epoch: 172, Loss: 0.0011157236294820905\n",
      "Epoch: 172, Loss: 0.0010847660014405847\n",
      "Epoch: 173, Loss: 0.0005909006576985121\n",
      "Epoch: 173, Loss: 0.0005644191987812519\n",
      "Epoch: 174, Loss: 0.0005912602646276355\n",
      "Epoch: 174, Loss: 0.0005551464855670929\n",
      "Epoch: 175, Loss: 0.0006800885312259197\n",
      "Epoch: 175, Loss: 0.0006429806817322969\n",
      "Epoch: 176, Loss: 0.0005038368399254978\n",
      "Epoch: 176, Loss: 0.0004730876535177231\n",
      "Epoch: 177, Loss: 0.0010606776922941208\n",
      "Epoch: 177, Loss: 0.0010338121792301536\n",
      "Epoch: 178, Loss: 0.0021845835726708174\n",
      "Epoch: 178, Loss: 0.002174067310988903\n",
      "Epoch: 179, Loss: 0.0005717551684938371\n",
      "Epoch: 179, Loss: 0.0005332654109224677\n",
      "Epoch: 180, Loss: 0.0005423485999926925\n",
      "Epoch: 180, Loss: 0.0005147341871634126\n",
      "Epoch: 181, Loss: 0.0008027205476537347\n",
      "Epoch: 181, Loss: 0.0007868802640587091\n",
      "Epoch: 182, Loss: 0.0005507776513695717\n",
      "Epoch: 182, Loss: 0.0005174453253857791\n",
      "Epoch: 183, Loss: 0.0005262941122055054\n",
      "Epoch: 183, Loss: 0.000503834686242044\n",
      "Epoch: 184, Loss: 0.0012696906924247742\n",
      "Epoch: 184, Loss: 0.001255604438483715\n",
      "Epoch: 185, Loss: 0.0006360223051160574\n",
      "Epoch: 185, Loss: 0.0006139437900856137\n",
      "Epoch: 186, Loss: 0.0006092661060392857\n",
      "Epoch: 186, Loss: 0.0005771110882051289\n",
      "Epoch: 187, Loss: 0.0006124923238530755\n",
      "Epoch: 187, Loss: 0.0006001249421387911\n",
      "Epoch: 188, Loss: 0.000599863997194916\n",
      "Epoch: 188, Loss: 0.0005828581633977592\n",
      "Epoch: 189, Loss: 0.0005187682108953595\n",
      "Epoch: 189, Loss: 0.0004956563352607191\n",
      "Epoch: 190, Loss: 0.0008861888200044632\n",
      "Epoch: 190, Loss: 0.0008623573812656105\n",
      "Epoch: 191, Loss: 0.0005498630926012993\n",
      "Epoch: 191, Loss: 0.0005223196931183338\n",
      "Epoch: 192, Loss: 0.0007965764962136745\n",
      "Epoch: 192, Loss: 0.0007765156915411353\n",
      "Epoch: 193, Loss: 0.0006278271321207285\n",
      "Epoch: 193, Loss: 0.0006057608406990767\n",
      "Epoch: 194, Loss: 0.0005398174980655313\n",
      "Epoch: 194, Loss: 0.0005168839124962687\n",
      "Epoch: 195, Loss: 0.0008957812679000199\n",
      "Epoch: 195, Loss: 0.0008561308495700359\n",
      "Epoch: 196, Loss: 0.000879412516951561\n",
      "Epoch: 196, Loss: 0.0008625272894278169\n",
      "Epoch: 197, Loss: 0.0005109598860144615\n",
      "Epoch: 197, Loss: 0.0004833947750739753\n",
      "Epoch: 198, Loss: 0.0006876425468362868\n",
      "Epoch: 198, Loss: 0.0006664860993623734\n",
      "Epoch: 199, Loss: 0.0005960732232779264\n",
      "Epoch: 199, Loss: 0.0005733885336667299\n"
     ]
    }
   ],
   "source": [
    "# Initialize a list to store the loss values\n",
    "train_losses = []\n",
    "val_losses = []\n",
    "\n",
    "# Training process\n",
    "\n",
    "for step in range(200):\n",
    "    for x_batch, y_batch, u_batch in data_loader:\n",
    "        # Forward propagation\n",
    "        optimizer.zero_grad()\n",
    "        koopman_pred = model_koopman(x_batch, y_batch, u_batch)\n",
    "        auto_pred = model_auto(x_batch)\n",
    "        predict_pred = model_predict(x_batch, u_batch)\n",
    "\n",
    "        loss = lambda_1 * mse_loss(koopman_pred, torch.zeros_like(koopman_pred)) \\\n",
    "               + lambda_2 * mse_loss(auto_pred, x_batch) \\\n",
    "               + lambda_3 * mse_loss(predict_pred, y_batch)\n",
    "\n",
    "        optimizer.zero_grad()\n",
    "        loss.backward()\n",
    "        optimizer.step()\n",
    "    \n",
    "    # Training Loss\n",
    "    koopman_pred = model_koopman(x_train, y_train, u_train)\n",
    "    auto_pred = model_auto(x_train)\n",
    "    predict_pred = model_predict(x_train, u_train)\n",
    "\n",
    "    loss = lambda_1 * mse_loss(koopman_pred, torch.zeros_like(koopman_pred)) \\\n",
    "               + lambda_2 * mse_loss(auto_pred, x_train) \\\n",
    "               + lambda_3 * mse_loss(predict_pred, y_train)        \n",
    "    train_losses.append(loss.item())\n",
    "        \n",
    "    print(f'Epoch: {step}, Loss: {loss.item()}')\n",
    "\n",
    "\n",
    "    # Test the model\n",
    "    with torch.no_grad():\n",
    "        koopman_pred = model_koopman(x_test, y_test, u_test)\n",
    "        auto_pred = model_auto(x_test)\n",
    "        predict_pred = model_predict(x_test, u_test)\n",
    "\n",
    "        loss = lambda_1 * mse_loss(koopman_pred, torch.zeros_like(koopman_pred)) \\\n",
    "           + lambda_2 * mse_loss(auto_pred, x_test) \\\n",
    "           + lambda_3 * mse_loss(predict_pred, y_test)\n",
    "        val_losses.append(loss.item())\n",
    "\n",
    "    \n",
    "    print(f'Epoch: {step}, Loss: {loss.item()}')"
   ]
  },
  {
   "cell_type": "code",
   "execution_count": 98,
   "id": "85f996b8",
   "metadata": {},
   "outputs": [
    {
     "data": {
      "image/png": "[encoded data removed]",
      "text/plain": [
       "<Figure size 1000x500 with 1 Axes>"
      ]
     },
     "metadata": {},
     "output_type": "display_data"
    }
   ],
   "source": [
    "import matplotlib.pyplot as plt\n",
    "\n",
    "# Plot the training and validation losses\n",
    "plt.figure(figsize=(10,5))\n",
    "plt.plot(train_losses, label='Training Loss')\n",
    "plt.plot(val_losses, label='Validation Loss')\n",
    "plt.legend()\n",
    "plt.yscale('log')\n",
    "plt.show()"
   ]
  },
  {
   "cell_type": "code",
   "execution_count": 99,
   "id": "de4e8eaa",
   "metadata": {},
   "outputs": [],
   "source": [
    "# data_file_path = '../data/data_dict_' + str(40) + '.npy'\n",
    "        \n",
    "# # Check if the file exists before trying to load it\n",
    "# if os.path.exists(data_file_path):\n",
    "#     data_dict = np.load(data_file_path, allow_pickle=True).item()\n",
    "#     x_traj_test1, y_traj_test1, u_traj_test1 = build_dataset(data_dict)\n",
    "# else:\n",
    "#     print(f\"File not found: {data_file_path}\")\n"
   ]
  },
  {
   "cell_type": "code",
   "execution_count": 100,
   "id": "0daba8dc",
   "metadata": {},
   "outputs": [],
   "source": [
    "x_dataset_scaled = [scaler_x.transform(x) for x in x_dataset]\n",
    "u_dataset_scaled = [scaler_u.transform(u) for u in u_dataset]"
   ]
  },
  {
   "cell_type": "code",
   "execution_count": 101,
   "id": "62926f86",
   "metadata": {},
   "outputs": [],
   "source": [
    "# x_traj_test_scaled = scaler_x.transform(np.array(x_traj_test1))\n",
    "# u_traj_test_scaled = scaler_u.transform(np.array(u_traj_test1))"
   ]
  },
  {
   "cell_type": "code",
   "execution_count": 102,
   "id": "bfdb40b7",
   "metadata": {},
   "outputs": [],
   "source": [
    "para_k = model_koopman.Para_k"
   ]
  },
  {
   "cell_type": "code",
   "execution_count": 103,
   "id": "b8d7a385",
   "metadata": {},
   "outputs": [],
   "source": [
    "import torch\n",
    "\n",
    "def koopman_predict(initial_data, u_data, steps, model_psi, model_inv_psi, para_k):\n",
    "    data_traj = []\n",
    "    \n",
    "    initial_data_tensor = torch.tensor(initial_data, dtype=torch.float32).reshape((1, -1))\n",
    "    u_data_tensor = torch.tensor(u_data, dtype=torch.float32)\n",
    "    \n",
    "    data_traj.append(initial_data_tensor)\n",
    "    psi_x = model_psi(initial_data_tensor)\n",
    "    psi_x_expanded = psi_x.unsqueeze(1)\n",
    "    \n",
    "    for step in range(steps):\n",
    "        u = u_data_tensor[step,:].reshape((1, -1))\n",
    "        psi_y_expanded = torch.bmm(psi_x_expanded, para_k(u))\n",
    "        psi_y = psi_y_expanded.squeeze(1)\n",
    "        data_traj.append(model_inv_psi(psi_y).detach().numpy())\n",
    "        psi_x_expanded = psi_y_expanded\n",
    "\n",
    "    return data_traj\n"
   ]
  },
  {
   "cell_type": "code",
   "execution_count": 104,
   "id": "e85e0cd3",
   "metadata": {},
   "outputs": [],
   "source": [
    "steps = 50"
   ]
  },
  {
   "cell_type": "code",
   "execution_count": 105,
   "id": "2629a826",
   "metadata": {},
   "outputs": [],
   "source": [
    "import numpy as np\n",
    "import torch\n",
    "\n",
    "pred_data_traj = []\n",
    "for x, u in zip(x_dataset_scaled, u_dataset_scaled):\n",
    "    x_pred_scaled_traj = koopman_predict(x[0, :], u, steps, model_psi, model_inv_psi, para_k)\n",
    "    \n",
    "    x_pred_scaled = np.concatenate(x_pred_scaled_traj, axis=0)\n",
    "    \n",
    "    x_pred = scaler_x.inverse_transform(x_pred_scaled)\n",
    "    pred_data_traj.append(x_pred)"
   ]
  },
  {
   "cell_type": "code",
   "execution_count": 106,
   "id": "32d80c1c",
   "metadata": {},
   "outputs": [],
   "source": [
    "errors = [pred_data_traj[i] - x_dataset[i][:(steps+1), :] for i in range(len(pred_data_traj))]\n",
    "\n",
    "# Calculate the norm of the error for each element\n",
    "error_norms = [np.linalg.norm(errors[i], axis=1) for i in range(len(errors))]\n",
    "\n",
    "# Calculate the norm of the original data for each element\n",
    "data_norms = [np.linalg.norm(x_dataset[i][:(steps+1), :]) for i in range(len(x_dataset))]\n",
    "\n",
    "\n",
    "# Calculate the ratio of the error norm to the data norm for each element\n",
    "relative_errors = [error_norms[i] / data_norms[i] for i in range(len(errors))]\n",
    "\n",
    "# Calculate the mean and standard deviation of the relative errors for each element\n",
    "mean_relative_errors = np.mean(relative_errors, axis=0)\n",
    "std_relative_errors = np.std(relative_errors, axis=0)"
   ]
  },
  {
   "cell_type": "code",
   "execution_count": 107,
   "id": "ff7b4044",
   "metadata": {},
   "outputs": [
    {
     "data": {
      "image/png": "[encoded data removed]",
      "text/plain": [
       "<Figure size 1000x600 with 1 Axes>"
      ]
     },
     "metadata": {},
     "output_type": "display_data"
    }
   ],
   "source": [
    "# Plot the relative error with error bars\n",
    "plt.figure(figsize=(10, 6))\n",
    "plt.errorbar(range(steps+1), mean_relative_errors, yerr=std_relative_errors, fmt='-o')\n",
    "plt.xlabel('Index')\n",
    "plt.ylabel('Relative Error')\n",
    "plt.title('Relative Error with Error Bars')\n",
    "plt.grid(True)\n",
    "plt.show()"
   ]
  },
  {
   "cell_type": "code",
   "execution_count": 108,
   "id": "bfe7b824",
   "metadata": {},
   "outputs": [],
   "source": [
    "domain_error_norms = [np.linalg.norm(errors[i]) for i in range(len(x_dataset))]\n",
    "domain_relative_error = [domain_error_norms[i]/data_norms[i] for i in range(len(domain_error_norms))]"
   ]
  },
  {
   "cell_type": "code",
   "execution_count": 109,
   "id": "d6ae54fd",
   "metadata": {},
   "outputs": [
    {
     "data": {
      "text/plain": [
       "0.8150824834084126"
      ]
     },
     "execution_count": 109,
     "metadata": {},
     "output_type": "execute_result"
    }
   ],
   "source": [
    "np.mean(domain_relative_error)"
   ]
  },
  {
   "cell_type": "code",
   "execution_count": 110,
   "id": "f15208cb",
   "metadata": {},
   "outputs": [
    {
     "data": {
      "text/plain": [
       "0.1689399406027485"
      ]
     },
     "execution_count": 110,
     "metadata": {},
     "output_type": "execute_result"
    }
   ],
   "source": [
    "np.std(domain_relative_error)"
   ]
  },
  {
   "cell_type": "code",
   "execution_count": 111,
   "id": "45926eb1",
   "metadata": {},
   "outputs": [
    {
     "data": {
      "text/plain": [
       "array([1.22237729e-10, 1.30818428e-02, 2.94222937e-02, 4.63489490e-02,\n",
       "       6.04700502e-02, 7.09552808e-02, 7.81547227e-02, 8.31443950e-02,\n",
       "       8.71582983e-02, 9.15973977e-02, 9.35639025e-02, 9.40262212e-02,\n",
       "       9.50200193e-02, 9.43099141e-02, 9.66045502e-02, 1.01246057e-01,\n",
       "       1.03821686e-01, 1.05061481e-01, 1.06276932e-01, 1.07031986e-01,\n",
       "       1.07942883e-01, 1.14623943e-01, 1.17535745e-01, 1.26151035e-01,\n",
       "       1.21678380e-01, 1.04298110e-01, 8.15326403e-02, 8.30849308e-02,\n",
       "       9.85126790e-02, 1.19889726e-01, 8.34056246e-02, 7.65770114e-02,\n",
       "       7.67170521e-02, 1.08930433e-01, 1.27896317e-01, 1.43233904e-01,\n",
       "       1.86206039e-01, 1.30356324e-01, 1.17307100e-01, 9.34099478e-02,\n",
       "       8.93558384e-02, 1.25794492e-01, 1.40930027e-01, 1.76655563e-01,\n",
       "       1.53868903e-01, 1.56995666e-01, 1.02425775e-01, 8.58193500e-02,\n",
       "       9.05445699e-02, 1.20200321e-01, 1.44991098e-01])"
      ]
     },
     "execution_count": 111,
     "metadata": {},
     "output_type": "execute_result"
    }
   ],
   "source": [
    "mean_relative_errors"
   ]
  },
  {
   "cell_type": "code",
   "execution_count": 112,
   "id": "33870f22",
   "metadata": {},
   "outputs": [
    {
     "data": {
      "text/plain": [
       "0.013081842771076326"
      ]
     },
     "execution_count": 112,
     "metadata": {},
     "output_type": "execute_result"
    }
   ],
   "source": [
    "mean_relative_errors[1]"
   ]
  },
  {
   "cell_type": "code",
   "execution_count": null,
   "id": "42aa1626",
   "metadata": {},
   "outputs": [],
   "source": [
    "steps = 1\n",
    "diff_abs = []\n",
    "for i in range(x_data.shape[0]):\n",
    "    x = x_data[i:i+1, :]\n",
    "    y = y_data[i:i+1, :]\n",
    "    u = u_data[i:i+1, :]\n",
    "#     print(u)\n",
    "    x_pred_traj = Hybridpredictor(x[0,:], u, steps, model_predict, model_correction, scaler_x, scaler_x, scaler_e, scaler_u)\n",
    "    diff_abs.append(np.abs(y.flatten()-x_pred_traj[1].flatten()))"
   ]
  }
 ],
 "metadata": {
  "kernelspec": {
   "display_name": "Python [conda env:torch] *",
   "language": "python",
   "name": "conda-env-torch-py"
  },
  "language_info": {
   "codemirror_mode": {
    "name": "ipython",
    "version": 3
   },
   "file_extension": ".py",
   "mimetype": "text/x-python",
   "name": "python",
   "nbconvert_exporter": "python",
   "pygments_lexer": "ipython3",
   "version": "3.9.17"
  }
 },
 "nbformat": 4,
 "nbformat_minor": 5
}
