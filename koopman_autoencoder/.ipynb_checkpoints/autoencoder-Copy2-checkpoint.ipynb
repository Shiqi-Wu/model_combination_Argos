{
 "cells": [
  {
   "cell_type": "code",
   "execution_count": 254,
   "id": "828d6236",
   "metadata": {},
   "outputs": [
    {
     "data": {
      "text/html": [
       "<style type='text/css'>\n",
       ".CodeMirror{\n",
       "font-size: 22px;\n",
       "</style>\n"
      ],
      "text/plain": [
       "<IPython.core.display.HTML object>"
      ]
     },
     "metadata": {},
     "output_type": "display_data"
    }
   ],
   "source": [
    "%%html\n",
    "<style type='text/css'>\n",
    ".CodeMirror{\n",
    "font-size: 22px;\n",
    "</style>"
   ]
  },
  {
   "cell_type": "code",
   "execution_count": 14,
   "id": "c475b1d5",
   "metadata": {},
   "outputs": [
    {
     "name": "stdout",
     "output_type": "stream",
     "text": [
      "The autoreload extension is already loaded. To reload it, use:\n",
      "  %reload_ext autoreload\n"
     ]
    }
   ],
   "source": [
    "%load_ext autoreload\n",
    "%autoreload 2"
   ]
  },
  {
   "cell_type": "code",
   "execution_count": 15,
   "id": "c071812e",
   "metadata": {},
   "outputs": [],
   "source": [
    "import numpy as np\n",
    "import torch\n",
    "from koopman_autoencoder import *"
   ]
  },
  {
   "cell_type": "code",
   "execution_count": 16,
   "id": "22eed0b3",
   "metadata": {},
   "outputs": [],
   "source": [
    "if torch.cuda.is_available():\n",
    "    device = torch.device('cuda:3')\n",
    "else:\n",
    "    device = torch.device('cpu')"
   ]
  },
  {
   "cell_type": "markdown",
   "id": "a73b8b71",
   "metadata": {},
   "source": [
    "## Load dataset"
   ]
  },
  {
   "cell_type": "code",
   "execution_count": 17,
   "id": "d2c47f74",
   "metadata": {},
   "outputs": [],
   "source": [
    "def build_dataset(data_dict):\n",
    "    time = []\n",
    "    data = []\n",
    "    I_p = []\n",
    "    for index, contents in data_dict.items():\n",
    "        time.append(contents['time'])\n",
    "        data.append(contents['data'])\n",
    "        I_p.append(contents['I_p'])\n",
    "    \n",
    "    data = np.array(data)\n",
    "    x_data = data[:-1,:]\n",
    "    y_data = data[1:,:]\n",
    "    dt_data = (time[1] - time[0]) * np.ones((data.shape[0] -1 , 1))\n",
    "    I_p = np.reshape(np.array(I_p)[:-1], (-1,1))\n",
    "    u_data = np.concatenate((dt_data, I_p), axis = 1)\n",
    "    return x_data, y_data, u_data"
   ]
  },
  {
   "cell_type": "code",
   "execution_count": 18,
   "id": "91a434cd",
   "metadata": {},
   "outputs": [
    {
     "name": "stdout",
     "output_type": "stream",
     "text": [
      "File not found: ../data/data_dict_25.npy\n",
      "File not found: ../data/data_dict_44.npy\n"
     ]
    }
   ],
   "source": [
    "import numpy as np\n",
    "import os\n",
    "\n",
    "x_dataset = []\n",
    "y_dataset = []\n",
    "u_dataset = []\n",
    "\n",
    "for suffix in range(10, 60):\n",
    "    data_file_path = '../data/data_dict_' + str(suffix) + '.npy'\n",
    "        \n",
    "    # Check if the file exists before trying to load it\n",
    "    if os.path.exists(data_file_path):\n",
    "        data_dict = np.load(data_file_path, allow_pickle=True).item()\n",
    "        x_data, y_data, u_data = build_dataset(data_dict)\n",
    "        x_dataset.append(x_data)\n",
    "        y_dataset.append(y_data)\n",
    "        u_dataset.append(u_data)\n",
    "    else:\n",
    "        print(f\"File not found: {data_file_path}\")\n"
   ]
  },
  {
   "cell_type": "code",
   "execution_count": 19,
   "id": "b6a69a12",
   "metadata": {},
   "outputs": [
    {
     "data": {
      "text/plain": [
       "(7221, 6957)"
      ]
     },
     "execution_count": 19,
     "metadata": {},
     "output_type": "execute_result"
    }
   ],
   "source": [
    "x_data = np.concatenate(x_dataset, axis = 0)\n",
    "y_data = np.concatenate(y_dataset, axis = 0)\n",
    "u_data = np.concatenate(u_dataset, axis = 0)\n",
    "x_data.shape"
   ]
  },
  {
   "cell_type": "code",
   "execution_count": 20,
   "id": "7bd164a9",
   "metadata": {},
   "outputs": [],
   "source": [
    "from sklearn.preprocessing import StandardScaler\n",
    "from sklearn.model_selection import train_test_split\n",
    "import numpy as np\n",
    "\n",
    "\n",
    "# Scaling the datasets\n",
    "scaler_x = StandardScaler().fit(x_data)\n",
    "scaler_u = StandardScaler().fit(u_data)\n",
    "\n",
    "x_data_scaled = scaler_x.transform(x_data)\n",
    "y_data_scaled = scaler_x.transform(y_data)\n",
    "u_data_scaled = scaler_u.transform(u_data)\n",
    "\n",
    "shuffled_indices = np.arange(len(x_data))\n",
    "np.random.shuffle(shuffled_indices)\n",
    "\n",
    "x_data_scaled = x_data_scaled[shuffled_indices]\n",
    "y_data_scaled = y_data_scaled[shuffled_indices]\n",
    "u_data_scaled = u_data_scaled[shuffled_indices]\n",
    "\n",
    "x_train, x_test = train_test_split(x_data_scaled, test_size=0.2, random_state=42)\n",
    "y_train, y_test = train_test_split(y_data_scaled, test_size=0.2, random_state=42)\n",
    "u_train, u_test = train_test_split(u_data_scaled, test_size=0.2, random_state=42)\n"
   ]
  },
  {
   "cell_type": "code",
   "execution_count": 21,
   "id": "44b440b9",
   "metadata": {},
   "outputs": [],
   "source": [
    "n_input = x_data.shape[1]\n",
    "layer_sizes_dic = [64, 64, 128]\n",
    "layer_sizes_k = [64, 64, 64]\n",
    "\n",
    "n_psi_train = 128\n",
    "u_dim = 2\n",
    "\n",
    "model_psi, model_koopman, model_inv_psi, model_predict, model_auto \\\n",
    "= Build_model(n_input, layer_sizes_dic, layer_sizes_k, n_psi_train, u_dim, para = True, dic_nonlinearity = False)"
   ]
  },
  {
   "cell_type": "code",
   "execution_count": 22,
   "id": "375bb150",
   "metadata": {},
   "outputs": [],
   "source": [
    "import torch\n",
    "from torch.optim import Adam\n",
    "from torch.utils.data import DataLoader, TensorDataset\n",
    "\n",
    "x_train = torch.tensor(x_train, dtype=torch.float32)\n",
    "y_train = torch.tensor(y_train, dtype=torch.float32)\n",
    "u_train = torch.tensor(u_train, dtype=torch.float32)\n",
    "x_test = torch.tensor(x_test, dtype=torch.float32)\n",
    "y_test = torch.tensor(y_test, dtype=torch.float32)\n",
    "u_test = torch.tensor(u_test, dtype=torch.float32)\n"
   ]
  },
  {
   "cell_type": "code",
   "execution_count": 23,
   "id": "6dd2bf2f",
   "metadata": {},
   "outputs": [],
   "source": [
    "# Create a dataset\n",
    "dataset = TensorDataset(x_train, y_train, u_train)\n",
    "\n",
    "# Create a data loader\n",
    "data_loader = DataLoader(dataset, batch_size=64, shuffle=True)\n"
   ]
  },
  {
   "cell_type": "markdown",
   "id": "12f25b7a",
   "metadata": {},
   "source": [
    "## Loop"
   ]
  },
  {
   "cell_type": "code",
   "execution_count": 137,
   "id": "0ac5e781",
   "metadata": {},
   "outputs": [],
   "source": [
    "err1_train = scaler_x.inverse_transform(y_train) - scaler_e.inverse_transform(model_correction(x_train, u_train).detach().numpy())\n",
    "err1_test = scaler_x.inverse_transform(y_test) - scaler_e.inverse_transform(model_correction(x_test, u_test).detach().numpy())"
   ]
  },
  {
   "cell_type": "code",
   "execution_count": 138,
   "id": "1f5ccded",
   "metadata": {},
   "outputs": [],
   "source": [
    "err1_train_scaled = scaler_x.transform(err1_train)\n",
    "err1_test_scaled = scaler_x.transform(err1_test)\n",
    "err1_train_scaled = torch.tensor(err1_train_scaled, dtype=torch.float32)\n",
    "err1_test_scaled = torch.tensor(err1_test_scaled, dtype=torch.float32)\n"
   ]
  },
  {
   "cell_type": "code",
   "execution_count": 139,
   "id": "feb7dcb2",
   "metadata": {},
   "outputs": [],
   "source": [
    "# Initialize a list to store the loss values\n",
    "train_losses_1 = []\n",
    "val_losses_1 = []\n",
    "\n",
    "# # Create a dataset\n",
    "dataset_1 = TensorDataset(x_train, err1_train_scaled, u_train)\n",
    "\n",
    "# Create a data loader\n",
    "data_loader_1 = DataLoader(dataset_1, batch_size=64, shuffle=True)\n",
    "\n"
   ]
  },
  {
   "cell_type": "code",
   "execution_count": 140,
   "id": "544aece3",
   "metadata": {},
   "outputs": [],
   "source": [
    "# Define the optimizer\n",
    "optimizer = Adam(list(model_predict.parameters()), lr=0.00001)\n",
    "\n",
    "mse_loss = nn.MSELoss()\n",
    "\n",
    "lambda_1 = 1.0\n",
    "lambda_2 = 1.0\n",
    "lambda_3 = 1.0\n"
   ]
  },
  {
   "cell_type": "code",
   "execution_count": 141,
   "id": "3e5db55b",
   "metadata": {},
   "outputs": [
    {
     "name": "stdout",
     "output_type": "stream",
     "text": [
      "Epoch: 0, Loss: 0.0004887368995696306\n",
      "Epoch: 0, Loss: 0.0005457085208036005\n",
      "Epoch: 1, Loss: 0.0004887058166787028\n",
      "Epoch: 1, Loss: 0.0005456217331811786\n",
      "Epoch: 2, Loss: 0.0004883033107034862\n",
      "Epoch: 2, Loss: 0.0005452731274999678\n",
      "Epoch: 3, Loss: 0.0004944833344779909\n",
      "Epoch: 3, Loss: 0.0005511545459739864\n",
      "Epoch: 4, Loss: 0.0004907406400889158\n",
      "Epoch: 4, Loss: 0.0005471389158628881\n",
      "Epoch: 5, Loss: 0.0004868070827797055\n",
      "Epoch: 5, Loss: 0.0005436908104456961\n",
      "Epoch: 6, Loss: 0.00048717972822487354\n",
      "Epoch: 6, Loss: 0.0005436625797301531\n",
      "Epoch: 7, Loss: 0.0004861884517595172\n",
      "Epoch: 7, Loss: 0.0005429057637229562\n",
      "Epoch: 8, Loss: 0.00048512493958696723\n",
      "Epoch: 8, Loss: 0.0005411725724115968\n",
      "Epoch: 9, Loss: 0.0004839626490138471\n",
      "Epoch: 9, Loss: 0.0005396883352659643\n",
      "Epoch: 10, Loss: 0.00048340074135921896\n",
      "Epoch: 10, Loss: 0.0005397449713200331\n",
      "Epoch: 11, Loss: 0.0004838027525693178\n",
      "Epoch: 11, Loss: 0.0005400037625804543\n",
      "Epoch: 12, Loss: 0.0004831843834836036\n",
      "Epoch: 12, Loss: 0.0005390793667174876\n",
      "Epoch: 13, Loss: 0.0004823513445444405\n",
      "Epoch: 13, Loss: 0.0005381981027312577\n",
      "Epoch: 14, Loss: 0.00048364841495640576\n",
      "Epoch: 14, Loss: 0.0005390822188928723\n",
      "Epoch: 15, Loss: 0.00048476652591489255\n",
      "Epoch: 15, Loss: 0.0005413068574853241\n",
      "Epoch: 16, Loss: 0.000481582508655265\n",
      "Epoch: 16, Loss: 0.0005375330802053213\n",
      "Epoch: 17, Loss: 0.0004812146653421223\n",
      "Epoch: 17, Loss: 0.000537264859303832\n",
      "Epoch: 18, Loss: 0.0004816864966414869\n",
      "Epoch: 18, Loss: 0.000537087325938046\n",
      "Epoch: 19, Loss: 0.0004779979644808918\n",
      "Epoch: 19, Loss: 0.0005330987623892725\n",
      "Epoch: 20, Loss: 0.00047805331996642053\n",
      "Epoch: 20, Loss: 0.0005337637849152088\n",
      "Epoch: 21, Loss: 0.0004799570597242564\n",
      "Epoch: 21, Loss: 0.0005353107117116451\n",
      "Epoch: 22, Loss: 0.00047872867435216904\n",
      "Epoch: 22, Loss: 0.0005346338730305433\n",
      "Epoch: 23, Loss: 0.00047612085472792387\n",
      "Epoch: 23, Loss: 0.0005311529967002571\n",
      "Epoch: 24, Loss: 0.00047767156502231956\n",
      "Epoch: 24, Loss: 0.0005332026048563421\n",
      "Epoch: 25, Loss: 0.00047849310794845223\n",
      "Epoch: 25, Loss: 0.0005337605252861977\n",
      "Epoch: 26, Loss: 0.00047982484102249146\n",
      "Epoch: 26, Loss: 0.0005347838741727173\n",
      "Epoch: 27, Loss: 0.00047442433424293995\n",
      "Epoch: 27, Loss: 0.0005294564180076122\n",
      "Epoch: 28, Loss: 0.0004747482598759234\n",
      "Epoch: 28, Loss: 0.0005299297044984996\n",
      "Epoch: 29, Loss: 0.0004810006939806044\n",
      "Epoch: 29, Loss: 0.0005358299822546542\n",
      "Epoch: 30, Loss: 0.0004767728387378156\n",
      "Epoch: 30, Loss: 0.0005320843192748725\n",
      "Epoch: 31, Loss: 0.00047553505282849073\n",
      "Epoch: 31, Loss: 0.0005310543347150087\n",
      "Epoch: 32, Loss: 0.00047717656707391143\n",
      "Epoch: 32, Loss: 0.0005327652906998992\n",
      "Epoch: 33, Loss: 0.00047386527876369655\n",
      "Epoch: 33, Loss: 0.0005292955902405083\n",
      "Epoch: 34, Loss: 0.00047520335647277534\n",
      "Epoch: 34, Loss: 0.0005306842504069209\n",
      "Epoch: 35, Loss: 0.00047334865666925907\n",
      "Epoch: 35, Loss: 0.0005278879543766379\n",
      "Epoch: 36, Loss: 0.0004751989617943764\n",
      "Epoch: 36, Loss: 0.0005303635261952877\n",
      "Epoch: 37, Loss: 0.0004745190963149071\n",
      "Epoch: 37, Loss: 0.0005300536868162453\n",
      "Epoch: 38, Loss: 0.0004723469028249383\n",
      "Epoch: 38, Loss: 0.0005272345733828843\n",
      "Epoch: 39, Loss: 0.0004723610181827098\n",
      "Epoch: 39, Loss: 0.0005275117000564933\n",
      "Epoch: 40, Loss: 0.0004733536916319281\n",
      "Epoch: 40, Loss: 0.0005275788716971874\n",
      "Epoch: 41, Loss: 0.00047305828775279224\n",
      "Epoch: 41, Loss: 0.0005277767777442932\n",
      "Epoch: 42, Loss: 0.00047313113464042544\n",
      "Epoch: 42, Loss: 0.0005280615296214819\n",
      "Epoch: 43, Loss: 0.00047192725469358265\n",
      "Epoch: 43, Loss: 0.0005269937682896852\n",
      "Epoch: 44, Loss: 0.00047162268310785294\n",
      "Epoch: 44, Loss: 0.0005263030179776251\n",
      "Epoch: 45, Loss: 0.00047398527385666966\n",
      "Epoch: 45, Loss: 0.0005284945364110172\n",
      "Epoch: 46, Loss: 0.00047259501297958195\n",
      "Epoch: 46, Loss: 0.0005277144373394549\n",
      "Epoch: 47, Loss: 0.00047129939775913954\n",
      "Epoch: 47, Loss: 0.0005257987068034708\n",
      "Epoch: 48, Loss: 0.00046972883865237236\n",
      "Epoch: 48, Loss: 0.000524621456861496\n",
      "Epoch: 49, Loss: 0.00047107296995818615\n",
      "Epoch: 49, Loss: 0.000525966752320528\n",
      "Epoch: 50, Loss: 0.00046824803575873375\n",
      "Epoch: 50, Loss: 0.0005231032846495509\n",
      "Epoch: 51, Loss: 0.00046905496856197715\n",
      "Epoch: 51, Loss: 0.0005236856522969902\n",
      "Epoch: 52, Loss: 0.00047066749539226294\n",
      "Epoch: 52, Loss: 0.000524705508723855\n",
      "Epoch: 53, Loss: 0.00047225228627212346\n",
      "Epoch: 53, Loss: 0.0005258669843897223\n",
      "Epoch: 54, Loss: 0.0004698684497270733\n",
      "Epoch: 54, Loss: 0.0005249156383797526\n",
      "Epoch: 55, Loss: 0.0004677589749917388\n",
      "Epoch: 55, Loss: 0.0005230747628957033\n",
      "Epoch: 56, Loss: 0.0004700679855886847\n",
      "Epoch: 56, Loss: 0.0005247497465461493\n",
      "Epoch: 57, Loss: 0.00047113944310694933\n",
      "Epoch: 57, Loss: 0.0005251350812613964\n",
      "Epoch: 58, Loss: 0.0004666396707762033\n",
      "Epoch: 58, Loss: 0.0005213026888668537\n",
      "Epoch: 59, Loss: 0.00046921076136641204\n",
      "Epoch: 59, Loss: 0.000524249451700598\n",
      "Epoch: 60, Loss: 0.0004713944217655808\n",
      "Epoch: 60, Loss: 0.0005260597099550068\n",
      "Epoch: 61, Loss: 0.00046844728058204055\n",
      "Epoch: 61, Loss: 0.0005232429830357432\n",
      "Epoch: 62, Loss: 0.0004682775470428169\n",
      "Epoch: 62, Loss: 0.0005231858231127262\n",
      "Epoch: 63, Loss: 0.0004684643936343491\n",
      "Epoch: 63, Loss: 0.0005227791843935847\n",
      "Epoch: 64, Loss: 0.00046855665277689695\n",
      "Epoch: 64, Loss: 0.0005218437290750444\n",
      "Epoch: 65, Loss: 0.0004652833449654281\n",
      "Epoch: 65, Loss: 0.0005189231014810503\n",
      "Epoch: 66, Loss: 0.0004722792364191264\n",
      "Epoch: 66, Loss: 0.0005264347419142723\n",
      "Epoch: 67, Loss: 0.0004735688853543252\n",
      "Epoch: 67, Loss: 0.0005274660652503371\n",
      "Epoch: 68, Loss: 0.00046605797251686454\n",
      "Epoch: 68, Loss: 0.0005205240449868143\n",
      "Epoch: 69, Loss: 0.00046628693235106766\n",
      "Epoch: 69, Loss: 0.000520447501912713\n",
      "Epoch: 70, Loss: 0.00046713155461475253\n",
      "Epoch: 70, Loss: 0.0005213376134634018\n",
      "Epoch: 71, Loss: 0.0004648334870580584\n",
      "Epoch: 71, Loss: 0.0005189860821701586\n",
      "Epoch: 72, Loss: 0.0004664423759095371\n",
      "Epoch: 72, Loss: 0.0005210450617596507\n",
      "Epoch: 73, Loss: 0.0004648418689612299\n",
      "Epoch: 73, Loss: 0.0005194216500967741\n",
      "Epoch: 74, Loss: 0.0004674037336371839\n",
      "Epoch: 74, Loss: 0.0005217709112912416\n",
      "Epoch: 75, Loss: 0.0004643272841349244\n",
      "Epoch: 75, Loss: 0.0005189611692912877\n",
      "Epoch: 76, Loss: 0.00046400216524489224\n",
      "Epoch: 76, Loss: 0.0005182151799090207\n",
      "Epoch: 77, Loss: 0.0004632952914107591\n",
      "Epoch: 77, Loss: 0.0005176321719773114\n",
      "Epoch: 78, Loss: 0.000466494238935411\n",
      "Epoch: 78, Loss: 0.0005199391744099557\n",
      "Epoch: 79, Loss: 0.0004631030897144228\n",
      "Epoch: 79, Loss: 0.0005173634854145348\n",
      "Epoch: 80, Loss: 0.0004631118499673903\n",
      "Epoch: 80, Loss: 0.0005177028942853212\n",
      "Epoch: 81, Loss: 0.0004626493901014328\n",
      "Epoch: 81, Loss: 0.0005167461931705475\n",
      "Epoch: 82, Loss: 0.0004627130401786417\n",
      "Epoch: 82, Loss: 0.000517168955411762\n",
      "Epoch: 83, Loss: 0.00046210861182771623\n",
      "Epoch: 83, Loss: 0.0005164080066606402\n",
      "Epoch: 84, Loss: 0.0004699983401224017\n",
      "Epoch: 84, Loss: 0.0005242478218860924\n",
      "Epoch: 85, Loss: 0.0004627067828550935\n",
      "Epoch: 85, Loss: 0.0005171327502466738\n",
      "Epoch: 86, Loss: 0.000463271455373615\n",
      "Epoch: 86, Loss: 0.0005166629562154412\n",
      "Epoch: 87, Loss: 0.00046499259769916534\n",
      "Epoch: 87, Loss: 0.0005193811375647783\n",
      "Epoch: 88, Loss: 0.00046181754441931844\n",
      "Epoch: 88, Loss: 0.0005160542204976082\n",
      "Epoch: 89, Loss: 0.00046117918100208044\n",
      "Epoch: 89, Loss: 0.0005148495547473431\n",
      "Epoch: 90, Loss: 0.00046261181705631316\n",
      "Epoch: 90, Loss: 0.0005163688329048455\n",
      "Epoch: 91, Loss: 0.0004612940829247236\n",
      "Epoch: 91, Loss: 0.0005157309933565557\n",
      "Epoch: 92, Loss: 0.0004635376972146332\n",
      "Epoch: 92, Loss: 0.0005178474821150303\n",
      "Epoch: 93, Loss: 0.0004628858296200633\n",
      "Epoch: 93, Loss: 0.0005167709314264357\n",
      "Epoch: 94, Loss: 0.0004643792053684592\n",
      "Epoch: 94, Loss: 0.0005186134949326515\n",
      "Epoch: 95, Loss: 0.00046057478175498545\n",
      "Epoch: 95, Loss: 0.0005148224299773574\n",
      "Epoch: 96, Loss: 0.00046611111611127853\n",
      "Epoch: 96, Loss: 0.0005195675184950233\n",
      "Epoch: 97, Loss: 0.0004622825072146952\n",
      "Epoch: 97, Loss: 0.0005165032926015556\n",
      "Epoch: 98, Loss: 0.00046189912245608866\n",
      "Epoch: 98, Loss: 0.0005153957172296941\n",
      "Epoch: 99, Loss: 0.000460017123259604\n",
      "Epoch: 99, Loss: 0.0005135427927598357\n"
     ]
    }
   ],
   "source": [
    "# Initialize a list to store the loss values\n",
    "train_losses = []\n",
    "val_losses = []\n",
    "\n",
    "# Training process\n",
    "\n",
    "for step in range(100):\n",
    "    for x_batch, y_batch, u_batch in data_loader_1:\n",
    "        # Forward propagation\n",
    "        optimizer.zero_grad()\n",
    "        koopman_pred = model_koopman(x_batch, y_batch, u_batch)\n",
    "        auto_pred = model_auto(x_batch)\n",
    "        predict_pred = model_predict(x_batch, u_batch)\n",
    "\n",
    "        loss = lambda_1 * mse_loss(koopman_pred, torch.zeros_like(koopman_pred)) \\\n",
    "               + lambda_2 * mse_loss(auto_pred, x_batch) \\\n",
    "               + lambda_3 * mse_loss(predict_pred, y_batch)\n",
    "\n",
    "        optimizer.zero_grad()\n",
    "        loss.backward()\n",
    "        optimizer.step()\n",
    "    \n",
    "    # Training Loss\n",
    "    koopman_pred = model_koopman(x_train, err1_train_scaled, u_train)\n",
    "    auto_pred = model_auto(x_train)\n",
    "    predict_pred = model_predict(x_train, u_train)\n",
    "\n",
    "    loss = lambda_1 * mse_loss(koopman_pred, torch.zeros_like(koopman_pred)) \\\n",
    "               + lambda_2 * mse_loss(auto_pred, x_train) \\\n",
    "               + lambda_3 * mse_loss(predict_pred, err1_train_scaled)        \n",
    "    train_losses.append(loss.item())\n",
    "        \n",
    "    print(f'Epoch: {step}, Loss: {loss.item()}')\n",
    "\n",
    "\n",
    "    # Test the model\n",
    "    with torch.no_grad():\n",
    "        koopman_pred = model_koopman(x_test, err1_test_scaled, u_test)\n",
    "        auto_pred = model_auto(x_test)\n",
    "        predict_pred = model_predict(x_test, u_test)\n",
    "\n",
    "        loss = lambda_1 * mse_loss(koopman_pred, torch.zeros_like(koopman_pred)) \\\n",
    "           + lambda_2 * mse_loss(auto_pred, x_test) \\\n",
    "           + lambda_3 * mse_loss(predict_pred, err1_test_scaled)\n",
    "        val_losses.append(loss.item())\n",
    "\n",
    "    \n",
    "    print(f'Epoch: {step}, Loss: {loss.item()}')"
   ]
  },
  {
   "cell_type": "code",
   "execution_count": 142,
   "id": "85f996b8",
   "metadata": {},
   "outputs": [
    {
     "data": {
      "image/png": "[encoded data removed]",
      "text/plain": [
       "<Figure size 1000x500 with 1 Axes>"
      ]
     },
     "metadata": {},
     "output_type": "display_data"
    }
   ],
   "source": [
    "import matplotlib.pyplot as plt\n",
    "\n",
    "# Plot the training and validation losses\n",
    "plt.figure(figsize=(10,5))\n",
    "plt.plot(train_losses, label='Training Loss')\n",
    "plt.plot(val_losses, label='Validation Loss')\n",
    "plt.legend()\n",
    "plt.yscale('log')\n",
    "plt.show()"
   ]
  },
  {
   "cell_type": "code",
   "execution_count": 143,
   "id": "de4e8eaa",
   "metadata": {},
   "outputs": [],
   "source": [
    "# data_file_path = '../data/data_dict_' + str(40) + '.npy'\n",
    "        \n",
    "# # Check if the file exists before trying to load it\n",
    "# if os.path.exists(data_file_path):\n",
    "#     data_dict = np.load(data_file_path, allow_pickle=True).item()\n",
    "#     x_traj_test1, y_traj_test1, u_traj_test1 = build_dataset(data_dict)\n",
    "# else:\n",
    "#     print(f\"File not found: {data_file_path}\")\n"
   ]
  },
  {
   "cell_type": "code",
   "execution_count": 144,
   "id": "0daba8dc",
   "metadata": {},
   "outputs": [],
   "source": [
    "x_dataset_scaled = [scaler_x.transform(x) for x in x_dataset]\n",
    "u_dataset_scaled = [scaler_u.transform(u) for u in u_dataset]"
   ]
  },
  {
   "cell_type": "code",
   "execution_count": 145,
   "id": "62926f86",
   "metadata": {},
   "outputs": [],
   "source": [
    "# x_traj_test_scaled = scaler_x.transform(np.array(x_traj_test1))\n",
    "# u_traj_test_scaled = scaler_u.transform(np.array(u_traj_test1))"
   ]
  },
  {
   "cell_type": "code",
   "execution_count": 146,
   "id": "bfdb40b7",
   "metadata": {},
   "outputs": [],
   "source": [
    "para_k = model_koopman.Para_k"
   ]
  },
  {
   "cell_type": "code",
   "execution_count": 147,
   "id": "b8d7a385",
   "metadata": {},
   "outputs": [],
   "source": [
    "import torch\n",
    "\n",
    "def koopman_predict(initial_data, u_data, steps, model_psi, model_inv_psi, para_k):\n",
    "    data_traj = []\n",
    "    \n",
    "    initial_data_tensor = torch.tensor(initial_data, dtype=torch.float32).reshape((1, -1))\n",
    "    u_data_tensor = torch.tensor(u_data, dtype=torch.float32)\n",
    "    \n",
    "    data_traj.append(initial_data_tensor)\n",
    "    psi_x = model_psi(initial_data_tensor)\n",
    "    psi_x_expanded = psi_x.unsqueeze(1)\n",
    "    \n",
    "    for step in range(steps):\n",
    "        u = u_data_tensor[step,:].reshape((1, -1))\n",
    "        psi_y_expanded = torch.bmm(psi_x_expanded, para_k(u))\n",
    "        psi_y = psi_y_expanded.squeeze(1)\n",
    "        data_traj.append(model_inv_psi(psi_y).detach().numpy())\n",
    "        psi_x_expanded = psi_y_expanded\n",
    "\n",
    "    return data_traj\n"
   ]
  },
  {
   "cell_type": "code",
   "execution_count": 148,
   "id": "e85e0cd3",
   "metadata": {},
   "outputs": [],
   "source": [
    "steps = 50"
   ]
  },
  {
   "cell_type": "code",
   "execution_count": 149,
   "id": "2629a826",
   "metadata": {},
   "outputs": [],
   "source": [
    "import numpy as np\n",
    "import torch\n",
    "\n",
    "pred_data_traj = []\n",
    "for x, u in zip(x_dataset_scaled, u_dataset_scaled):\n",
    "    x_pred_scaled_traj = koopman_predict(x[0, :], u, steps, model_psi, model_inv_psi, para_k)\n",
    "    \n",
    "    x_pred_scaled = np.concatenate(x_pred_scaled_traj, axis=0)\n",
    "    \n",
    "    x_pred = scaler_x.inverse_transform(x_pred_scaled)\n",
    "    pred_data_traj.append(x_pred)"
   ]
  },
  {
   "cell_type": "code",
   "execution_count": 150,
   "id": "32d80c1c",
   "metadata": {},
   "outputs": [],
   "source": [
    "errors = [pred_data_traj[i] - x_dataset[i][:(steps+1), :] for i in range(len(pred_data_traj))]\n",
    "\n",
    "# Calculate the norm of the error for each element\n",
    "error_norms = [np.linalg.norm(errors[i], axis=1) for i in range(len(errors))]\n",
    "\n",
    "# Calculate the norm of the original data for each element\n",
    "data_norms = [np.linalg.norm(x_dataset[i][:(steps+1), :]) for i in range(len(x_dataset))]\n",
    "\n",
    "\n",
    "# Calculate the ratio of the error norm to the data norm for each element\n",
    "relative_errors = [error_norms[i] / data_norms[i] for i in range(len(errors))]\n",
    "\n",
    "# Calculate the mean and standard deviation of the relative errors for each element\n",
    "mean_relative_errors = np.mean(relative_errors, axis=0)\n",
    "std_relative_errors = np.std(relative_errors, axis=0)"
   ]
  },
  {
   "cell_type": "code",
   "execution_count": 151,
   "id": "ff7b4044",
   "metadata": {},
   "outputs": [
    {
     "data": {
      "image/png": "[encoded data removed]",
      "text/plain": [
       "<Figure size 1000x600 with 1 Axes>"
      ]
     },
     "metadata": {},
     "output_type": "display_data"
    }
   ],
   "source": [
    "# Plot the relative error with error bars\n",
    "plt.figure(figsize=(10, 6))\n",
    "plt.errorbar(range(steps+1), mean_relative_errors, yerr=std_relative_errors, fmt='-o')\n",
    "plt.xlabel('Index')\n",
    "plt.ylabel('Relative Error')\n",
    "plt.title('Relative Error with Error Bars')\n",
    "plt.grid(True)\n",
    "plt.show()"
   ]
  },
  {
   "cell_type": "code",
   "execution_count": 152,
   "id": "bfe7b824",
   "metadata": {},
   "outputs": [],
   "source": [
    "domain_error_norms = [np.linalg.norm(errors[i]) for i in range(len(x_dataset))]\n",
    "domain_relative_error = [domain_error_norms[i]/data_norms[i] for i in range(len(domain_error_norms))]"
   ]
  },
  {
   "cell_type": "code",
   "execution_count": 153,
   "id": "d6ae54fd",
   "metadata": {},
   "outputs": [
    {
     "data": {
      "text/plain": [
       "0.8657868189791724"
      ]
     },
     "execution_count": 153,
     "metadata": {},
     "output_type": "execute_result"
    }
   ],
   "source": [
    "np.mean(domain_relative_error)"
   ]
  },
  {
   "cell_type": "code",
   "execution_count": 154,
   "id": "f15208cb",
   "metadata": {},
   "outputs": [
    {
     "data": {
      "text/plain": [
       "0.03726819048143218"
      ]
     },
     "execution_count": 154,
     "metadata": {},
     "output_type": "execute_result"
    }
   ],
   "source": [
    "np.std(domain_relative_error)"
   ]
  },
  {
   "cell_type": "code",
   "execution_count": 155,
   "id": "33870f22",
   "metadata": {},
   "outputs": [
    {
     "data": {
      "text/plain": [
       "array([[ 2.56649946e-04,  1.90082121e-05, -2.71756965e-06, ...,\n",
       "         1.49853611e-04,  1.11109075e-04,  1.03880430e-04],\n",
       "       [ 2.86276862e-03,  3.07010905e-04, -5.85201288e-05, ...,\n",
       "         2.06830157e-04,  2.05363960e-04, -1.73823298e-03],\n",
       "       [-1.76688616e-04, -1.87987614e-05,  5.16731068e-06, ...,\n",
       "         3.20006535e-04,  2.86412108e-04, -6.83231205e-04],\n",
       "       ...,\n",
       "       [-4.56112355e-04, -4.64234735e-05,  8.05301535e-06, ...,\n",
       "        -3.57825129e-04, -3.29124539e-04,  2.00702825e-03],\n",
       "       [-3.63629576e-03, -3.81253950e-04,  7.09167630e-05, ...,\n",
       "        -1.56920799e-04, -1.39095168e-04,  4.26470131e-04],\n",
       "       [-1.00081692e-03, -1.06017859e-04,  2.10361309e-05, ...,\n",
       "        -2.17129405e-04, -1.95279405e-04,  2.58624377e-04]])"
      ]
     },
     "execution_count": 155,
     "metadata": {},
     "output_type": "execute_result"
    }
   ],
   "source": [
    "err_nonlinear_train = scaler_x.inverse_transform(y_train) - scaler_x.inverse_transform(model_predict(x_train, u_train).detach().numpy())\n",
    "err_nonlinear_train"
   ]
  },
  {
   "cell_type": "code",
   "execution_count": 156,
   "id": "38ebdc9c",
   "metadata": {},
   "outputs": [
    {
     "data": {
      "text/plain": [
       "array([[-2.44787684e-03, -2.56417004e-04,  4.70705108e-05, ...,\n",
       "        -1.31793691e-04, -1.14866002e-04,  2.52430596e-04],\n",
       "       [ 7.49827365e-04,  8.50972822e-05, -1.73315474e-05, ...,\n",
       "        -3.49963543e-04, -3.05016850e-04,  1.14314937e-03],\n",
       "       [-2.27874492e-03, -2.39572476e-04,  4.55619044e-05, ...,\n",
       "         7.42982273e-05,  4.42668462e-05,  9.82882533e-04],\n",
       "       ...,\n",
       "       [-3.72630410e-03, -3.58385903e-04,  6.38541057e-05, ...,\n",
       "        -1.34685826e-04, -1.47038887e-04,  1.33456868e-03],\n",
       "       [-6.58510674e-04, -5.42561207e-05,  6.85008065e-06, ...,\n",
       "         1.81567261e-05,  1.91808650e-05,  2.04645100e-04],\n",
       "       [ 3.56579192e-03,  3.78449873e-04, -7.06450380e-05, ...,\n",
       "         2.19630230e-05,  4.78294090e-05, -1.64001108e-03]])"
      ]
     },
     "execution_count": 156,
     "metadata": {},
     "output_type": "execute_result"
    }
   ],
   "source": [
    "err_nonlinear_test = scaler_x.inverse_transform(y_test) - scaler_x.inverse_transform(model_predict(x_test, u_test).detach().numpy())\n",
    "err_nonlinear_test"
   ]
  },
  {
   "cell_type": "code",
   "execution_count": 157,
   "id": "018705ee",
   "metadata": {},
   "outputs": [],
   "source": [
    "scaler_e = StandardScaler().fit(err_nonlinear_train)\n",
    "err_nonlinear_train_scaled = scaler_e.transform(err_nonlinear_train)\n",
    "err_nonlinear_test_scaled = scaler_e.transform(err_nonlinear_test)\n",
    "err_nonlinear_train_scaled = torch.tensor(err_nonlinear_train_scaled, dtype=torch.float32)\n",
    "err_nonlinear_test_scaled = torch.tensor(err_nonlinear_test_scaled, dtype=torch.float32)\n"
   ]
  },
  {
   "cell_type": "code",
   "execution_count": 158,
   "id": "72413d43",
   "metadata": {},
   "outputs": [
    {
     "data": {
      "text/plain": [
       "tensor([[ 0.0858,  0.0716, -0.0654,  ...,  0.3863,  0.3054, -0.0021],\n",
       "        [ 0.5516,  0.5623, -0.5756,  ...,  0.5185,  0.5323, -0.6332],\n",
       "        [ 0.0084,  0.0072,  0.0067,  ...,  0.7811,  0.7274, -0.2717],\n",
       "        ...,\n",
       "        [-0.0415, -0.0399,  0.0331,  ..., -0.7916, -0.7546,  0.6500],\n",
       "        [-0.6099, -0.6104,  0.6079,  ..., -0.3255, -0.2970,  0.1085],\n",
       "        [-0.1389, -0.1414,  0.1518,  ..., -0.4652, -0.4323,  0.0510]])"
      ]
     },
     "execution_count": 158,
     "metadata": {},
     "output_type": "execute_result"
    }
   ],
   "source": [
    "err_nonlinear_train_scaled"
   ]
  },
  {
   "cell_type": "code",
   "execution_count": 81,
   "id": "56907f1d",
   "metadata": {},
   "outputs": [],
   "source": [
    "n_input = x_data.shape[1]\n",
    "layer_sizes_dic = [64, 64, 128]\n",
    "layer_sizes_m = [64, 128, 64, 64]\n",
    "\n",
    "n_psi_train = 128\n",
    "u_dim = 2"
   ]
  },
  {
   "cell_type": "code",
   "execution_count": 82,
   "id": "7c41426a",
   "metadata": {},
   "outputs": [],
   "source": [
    "model_correction = BuildNonlinearModel(n_input, layer_sizes_dic, layer_sizes_m, n_psi_train, u_dim)"
   ]
  },
  {
   "cell_type": "code",
   "execution_count": 159,
   "id": "975bf86d",
   "metadata": {},
   "outputs": [
    {
     "name": "stdout",
     "output_type": "stream",
     "text": [
      "Epoch: 0, Loss: 0.06554512679576874\n",
      "Epoch: 0, Loss: 0.10106179863214493\n",
      "Epoch: 1, Loss: 0.06325484067201614\n",
      "Epoch: 1, Loss: 0.09993625432252884\n",
      "Epoch: 2, Loss: 0.06169409304857254\n",
      "Epoch: 2, Loss: 0.10014228522777557\n",
      "Epoch: 3, Loss: 0.06068649888038635\n",
      "Epoch: 3, Loss: 0.09939936548471451\n",
      "Epoch: 4, Loss: 0.059875182807445526\n",
      "Epoch: 4, Loss: 0.09949348121881485\n",
      "Epoch: 5, Loss: 0.05948442965745926\n",
      "Epoch: 5, Loss: 0.09861674904823303\n",
      "Epoch: 6, Loss: 0.0590352825820446\n",
      "Epoch: 6, Loss: 0.09906525909900665\n",
      "Epoch: 7, Loss: 0.05879981070756912\n",
      "Epoch: 7, Loss: 0.09823106229305267\n",
      "Epoch: 8, Loss: 0.0583505854010582\n",
      "Epoch: 8, Loss: 0.0988154411315918\n",
      "Epoch: 9, Loss: 0.058419737964868546\n",
      "Epoch: 9, Loss: 0.09775145351886749\n",
      "Epoch: 10, Loss: 0.05833439901471138\n",
      "Epoch: 10, Loss: 0.0982959195971489\n",
      "Epoch: 11, Loss: 0.058185406029224396\n",
      "Epoch: 11, Loss: 0.0981752872467041\n",
      "Epoch: 12, Loss: 0.057712141424417496\n",
      "Epoch: 12, Loss: 0.09856904298067093\n",
      "Epoch: 13, Loss: 0.05759331211447716\n",
      "Epoch: 13, Loss: 0.09805580973625183\n",
      "Epoch: 14, Loss: 0.057502467185258865\n",
      "Epoch: 14, Loss: 0.09858222305774689\n",
      "Epoch: 15, Loss: 0.05738971009850502\n",
      "Epoch: 15, Loss: 0.09821061044931412\n",
      "Epoch: 16, Loss: 0.05710606276988983\n",
      "Epoch: 16, Loss: 0.09835047274827957\n",
      "Epoch: 17, Loss: 0.057192690670490265\n",
      "Epoch: 17, Loss: 0.0972559005022049\n",
      "Epoch: 18, Loss: 0.056972648948431015\n",
      "Epoch: 18, Loss: 0.09807189553976059\n",
      "Epoch: 19, Loss: 0.05694711580872536\n",
      "Epoch: 19, Loss: 0.09702597558498383\n",
      "Epoch: 20, Loss: 0.05709211528301239\n",
      "Epoch: 20, Loss: 0.09827947616577148\n",
      "Epoch: 21, Loss: 0.05662126839160919\n",
      "Epoch: 21, Loss: 0.09692449867725372\n",
      "Epoch: 22, Loss: 0.056604210287332535\n",
      "Epoch: 22, Loss: 0.09797824174165726\n",
      "Epoch: 23, Loss: 0.056394148617982864\n",
      "Epoch: 23, Loss: 0.09734886884689331\n",
      "Epoch: 24, Loss: 0.05628714710474014\n",
      "Epoch: 24, Loss: 0.09746483713388443\n",
      "Epoch: 25, Loss: 0.056133564561605453\n",
      "Epoch: 25, Loss: 0.09694650769233704\n",
      "Epoch: 26, Loss: 0.05612830072641373\n",
      "Epoch: 26, Loss: 0.09791558980941772\n",
      "Epoch: 27, Loss: 0.056105006486177444\n",
      "Epoch: 27, Loss: 0.096771240234375\n",
      "Epoch: 28, Loss: 0.055946387350559235\n",
      "Epoch: 28, Loss: 0.09787804633378983\n",
      "Epoch: 29, Loss: 0.055801600217819214\n",
      "Epoch: 29, Loss: 0.09745340794324875\n",
      "Epoch: 30, Loss: 0.05603940784931183\n",
      "Epoch: 30, Loss: 0.09807699918746948\n",
      "Epoch: 31, Loss: 0.055730875581502914\n",
      "Epoch: 31, Loss: 0.09733288735151291\n",
      "Epoch: 32, Loss: 0.055611565709114075\n",
      "Epoch: 32, Loss: 0.09746401011943817\n",
      "Epoch: 33, Loss: 0.05568772554397583\n",
      "Epoch: 33, Loss: 0.09679409861564636\n",
      "Epoch: 34, Loss: 0.05558546259999275\n",
      "Epoch: 34, Loss: 0.09733834117650986\n",
      "Epoch: 35, Loss: 0.0554879829287529\n",
      "Epoch: 35, Loss: 0.09659203886985779\n",
      "Epoch: 36, Loss: 0.05537477135658264\n",
      "Epoch: 36, Loss: 0.09767148643732071\n",
      "Epoch: 37, Loss: 0.055225640535354614\n",
      "Epoch: 37, Loss: 0.0966801866889\n",
      "Epoch: 38, Loss: 0.05508141964673996\n",
      "Epoch: 38, Loss: 0.0975436121225357\n",
      "Epoch: 39, Loss: 0.05510652810335159\n",
      "Epoch: 39, Loss: 0.09663397073745728\n",
      "Epoch: 40, Loss: 0.055070046335458755\n",
      "Epoch: 40, Loss: 0.09750854969024658\n",
      "Epoch: 41, Loss: 0.05487922951579094\n",
      "Epoch: 41, Loss: 0.09667442739009857\n",
      "Epoch: 42, Loss: 0.055042870342731476\n",
      "Epoch: 42, Loss: 0.0972919687628746\n",
      "Epoch: 43, Loss: 0.05482470616698265\n",
      "Epoch: 43, Loss: 0.0966341644525528\n",
      "Epoch: 44, Loss: 0.05485318601131439\n",
      "Epoch: 44, Loss: 0.09726682305335999\n",
      "Epoch: 45, Loss: 0.05474044010043144\n",
      "Epoch: 45, Loss: 0.09671968966722488\n",
      "Epoch: 46, Loss: 0.05440421774983406\n",
      "Epoch: 46, Loss: 0.09724059700965881\n",
      "Epoch: 47, Loss: 0.0544927604496479\n",
      "Epoch: 47, Loss: 0.09642911702394485\n",
      "Epoch: 48, Loss: 0.05449474975466728\n",
      "Epoch: 48, Loss: 0.09790870547294617\n",
      "Epoch: 49, Loss: 0.05449925363063812\n",
      "Epoch: 49, Loss: 0.09652504324913025\n",
      "Epoch: 50, Loss: 0.054428648203611374\n",
      "Epoch: 50, Loss: 0.09731435775756836\n",
      "Epoch: 51, Loss: 0.0541524700820446\n",
      "Epoch: 51, Loss: 0.09661798179149628\n",
      "Epoch: 52, Loss: 0.05448241904377937\n",
      "Epoch: 52, Loss: 0.09730684757232666\n",
      "Epoch: 53, Loss: 0.05405094474554062\n",
      "Epoch: 53, Loss: 0.09639649838209152\n",
      "Epoch: 54, Loss: 0.054155707359313965\n",
      "Epoch: 54, Loss: 0.09740890562534332\n",
      "Epoch: 55, Loss: 0.0539969801902771\n",
      "Epoch: 55, Loss: 0.09650669991970062\n",
      "Epoch: 56, Loss: 0.054272234439849854\n",
      "Epoch: 56, Loss: 0.09744849801063538\n",
      "Epoch: 57, Loss: 0.054276127368211746\n",
      "Epoch: 57, Loss: 0.09797102957963943\n",
      "Epoch: 58, Loss: 0.053984519094228745\n",
      "Epoch: 58, Loss: 0.09654787182807922\n",
      "Epoch: 59, Loss: 0.05383329465985298\n",
      "Epoch: 59, Loss: 0.09685716032981873\n",
      "Epoch: 60, Loss: 0.05388053134083748\n",
      "Epoch: 60, Loss: 0.09687753021717072\n",
      "Epoch: 61, Loss: 0.0536702536046505\n",
      "Epoch: 61, Loss: 0.09661971032619476\n",
      "Epoch: 62, Loss: 0.05371677875518799\n",
      "Epoch: 62, Loss: 0.09715951234102249\n",
      "Epoch: 63, Loss: 0.05369635298848152\n",
      "Epoch: 63, Loss: 0.09670980274677277\n",
      "Epoch: 64, Loss: 0.05379873886704445\n",
      "Epoch: 64, Loss: 0.09711887687444687\n",
      "Epoch: 65, Loss: 0.05356112867593765\n",
      "Epoch: 65, Loss: 0.09675046801567078\n",
      "Epoch: 66, Loss: 0.0535087026655674\n",
      "Epoch: 66, Loss: 0.09736786037683487\n",
      "Epoch: 67, Loss: 0.0534653440117836\n",
      "Epoch: 67, Loss: 0.09641300141811371\n",
      "Epoch: 68, Loss: 0.053426697850227356\n",
      "Epoch: 68, Loss: 0.09713783860206604\n",
      "Epoch: 69, Loss: 0.053434088826179504\n",
      "Epoch: 69, Loss: 0.09662500768899918\n",
      "Epoch: 70, Loss: 0.05315370857715607\n",
      "Epoch: 70, Loss: 0.09716080129146576\n",
      "Epoch: 71, Loss: 0.053337711840867996\n",
      "Epoch: 71, Loss: 0.09621814638376236\n",
      "Epoch: 72, Loss: 0.05305394530296326\n",
      "Epoch: 72, Loss: 0.09711373597383499\n",
      "Epoch: 73, Loss: 0.05342603102326393\n",
      "Epoch: 73, Loss: 0.09651360660791397\n",
      "Epoch: 74, Loss: 0.05337030813097954\n",
      "Epoch: 74, Loss: 0.09773257374763489\n",
      "Epoch: 75, Loss: 0.05307061970233917\n",
      "Epoch: 75, Loss: 0.09630510210990906\n",
      "Epoch: 76, Loss: 0.05300534889101982\n",
      "Epoch: 76, Loss: 0.09724263846874237\n",
      "Epoch: 77, Loss: 0.05284370481967926\n",
      "Epoch: 77, Loss: 0.09656433016061783\n",
      "Epoch: 78, Loss: 0.052904557436704636\n",
      "Epoch: 78, Loss: 0.0971641018986702\n",
      "Epoch: 79, Loss: 0.05276431888341904\n",
      "Epoch: 79, Loss: 0.09679583460092545\n",
      "Epoch: 80, Loss: 0.05266239494085312\n",
      "Epoch: 80, Loss: 0.09690704196691513\n",
      "Epoch: 81, Loss: 0.05275733768939972\n",
      "Epoch: 81, Loss: 0.09676124155521393\n",
      "Epoch: 82, Loss: 0.05275607109069824\n",
      "Epoch: 82, Loss: 0.09727229177951813\n",
      "Epoch: 83, Loss: 0.052525535225868225\n",
      "Epoch: 83, Loss: 0.09666462987661362\n",
      "Epoch: 84, Loss: 0.052748627960681915\n",
      "Epoch: 84, Loss: 0.09730292111635208\n",
      "Epoch: 85, Loss: 0.053200043737888336\n",
      "Epoch: 85, Loss: 0.09673729538917542\n",
      "Epoch: 86, Loss: 0.05260155349969864\n",
      "Epoch: 86, Loss: 0.09735391288995743\n",
      "Epoch: 87, Loss: 0.052444759756326675\n",
      "Epoch: 87, Loss: 0.09623383730649948\n",
      "Epoch: 88, Loss: 0.05262988805770874\n",
      "Epoch: 88, Loss: 0.09742600470781326\n",
      "Epoch: 89, Loss: 0.05272523686289787\n",
      "Epoch: 89, Loss: 0.09603502601385117\n",
      "Epoch: 90, Loss: 0.052462343126535416\n",
      "Epoch: 90, Loss: 0.09746990352869034\n",
      "Epoch: 91, Loss: 0.05256051942706108\n",
      "Epoch: 91, Loss: 0.0961601585149765\n",
      "Epoch: 92, Loss: 0.05244342237710953\n",
      "Epoch: 92, Loss: 0.09765733778476715\n",
      "Epoch: 93, Loss: 0.052247304469347\n",
      "Epoch: 93, Loss: 0.09610840678215027\n",
      "Epoch: 94, Loss: 0.05221758037805557\n",
      "Epoch: 94, Loss: 0.09760183095932007\n",
      "Epoch: 95, Loss: 0.05207362025976181\n",
      "Epoch: 95, Loss: 0.09644342213869095\n",
      "Epoch: 96, Loss: 0.05206240341067314\n",
      "Epoch: 96, Loss: 0.09715966135263443\n",
      "Epoch: 97, Loss: 0.052132498472929\n",
      "Epoch: 97, Loss: 0.09639690816402435\n",
      "Epoch: 98, Loss: 0.05184410139918327\n",
      "Epoch: 98, Loss: 0.0969088152050972\n",
      "Epoch: 99, Loss: 0.05187013000249863\n",
      "Epoch: 99, Loss: 0.09652028232812881\n"
     ]
    }
   ],
   "source": [
    "# Initialize a list to store the loss values\n",
    "train_losses_2 = []\n",
    "val_losses_2 = []\n",
    "\n",
    "# # Create a dataset\n",
    "dataset_2 = TensorDataset(x_train, err_nonlinear_train_scaled, u_train)\n",
    "\n",
    "# Create a data loader\n",
    "data_loader_2 = DataLoader(dataset_2, batch_size=64, shuffle=True)\n",
    "\n",
    "\n",
    "# Define the optimizer\n",
    "optimizer_2 = Adam(list(model_correction.parameters()), lr=0.00001)\n",
    "\n",
    "mse_loss = nn.MSELoss()\n",
    "\n",
    "lambda_1 = 1.0\n",
    "lambda_2 = 1.0\n",
    "lambda_3 = 1.0\n",
    "\n",
    "# Training process\n",
    "\n",
    "for step in range(100):\n",
    "    for x_batch, y_batch, u_batch in data_loader_2:\n",
    "        # Forward propagation\n",
    "        optimizer_2.zero_grad()\n",
    "        \n",
    "        y_pred_batch = model_correction(x_batch, u_batch)\n",
    "        \n",
    "        loss = mse_loss(y_pred_batch, y_batch)\n",
    "\n",
    "        optimizer_2.zero_grad()\n",
    "        loss.backward()\n",
    "        optimizer_2.step()\n",
    "    \n",
    "    # Training Loss\n",
    "    y_pred = model_correction(x_train, u_train)\n",
    "        \n",
    "    loss = mse_loss(y_pred, err_nonlinear_train_scaled)\n",
    "    \n",
    "    train_losses_2.append(loss.item())\n",
    "        \n",
    "    print(f'Epoch: {step}, Loss: {loss.item()}')\n",
    "\n",
    "\n",
    "    # Test the model\n",
    "    with torch.no_grad():\n",
    "        y_pred = model_correction(x_test, u_test)      \n",
    "        loss = mse_loss(y_pred, err_nonlinear_test_scaled)        \n",
    "        val_losses_2.append(loss.item())\n",
    "\n",
    "    \n",
    "    print(f'Epoch: {step}, Loss: {loss.item()}')"
   ]
  },
  {
   "cell_type": "code",
   "execution_count": 160,
   "id": "8878cfd8",
   "metadata": {},
   "outputs": [
    {
     "data": {
      "image/png": "[encoded data removed]",
      "text/plain": [
       "<Figure size 1000x500 with 1 Axes>"
      ]
     },
     "metadata": {},
     "output_type": "display_data"
    }
   ],
   "source": [
    "import matplotlib.pyplot as plt\n",
    "\n",
    "# Plot the training and validation losses\n",
    "plt.figure(figsize=(10,5))\n",
    "plt.plot(train_losses_2, label='Training Loss')\n",
    "plt.plot(val_losses_2, label='Validation Loss')\n",
    "plt.legend()\n",
    "plt.yscale('log')\n",
    "plt.show()"
   ]
  },
  {
   "cell_type": "code",
   "execution_count": 167,
   "id": "4b45b8c9",
   "metadata": {},
   "outputs": [],
   "source": [
    "def Hybridpredictor(x0, u_data, steps, model_predict, model_correction, scaler_x, scaler_y1, scaler_y2, scaler_u):\n",
    "    data_traj = []\n",
    "    \n",
    "    x0 = x0.reshape((1,-1))\n",
    "    data_traj.append(x0)\n",
    "    \n",
    "    x0_scaled = scaler_x.transform(x0)\n",
    "    u_data_scaled = scaler_u.transform(u_data)\n",
    "    \n",
    "    x = torch.tensor(x0_scaled, dtype=torch.float32)\n",
    "    u_data_scaled_tensor = torch.tensor(u_data_scaled, dtype=torch.float32)\n",
    "    \n",
    "    \n",
    "    for step in range(steps):\n",
    "        u = u_data_scaled_tensor[step:step+1, :]\n",
    "        y1_scaled = model_predict(x, u).detach().numpy()\n",
    "        y2_scaled = model_correction(x, u).detach().numpy()\n",
    "        y1 = scaler_y1.inverse_transform(y1_scaled)\n",
    "        y2 = scaler_y2.inverse_transform(y2_scaled)\n",
    "        y_np = y1 + y2\n",
    "        data_traj.append(y_np)\n",
    "        y_scaled = scaler_x.inverse_transform(y_np)\n",
    "        x = torch.tensor(y_scaled, dtype=torch.float32)\n",
    "    \n",
    "    return data_traj"
   ]
  },
  {
   "cell_type": "code",
   "execution_count": 168,
   "id": "d10b9fcc",
   "metadata": {},
   "outputs": [],
   "source": [
    "import numpy as np\n",
    "import torch\n",
    "\n",
    "steps = 50\n",
    "\n",
    "pred_data_traj = []\n",
    "for x, u in zip(x_dataset, u_dataset):\n",
    "    x_pred_traj = Hybridpredictor(x[0, :], u, steps, model_predict, model_correction, scaler_x, scaler_x, scaler_e, scaler_u)\n",
    "    \n",
    "    x_pred = np.concatenate(x_pred_traj, axis=0)\n",
    "    \n",
    "    pred_data_traj.append(x_pred)"
   ]
  },
  {
   "cell_type": "code",
   "execution_count": 169,
   "id": "152f2134",
   "metadata": {},
   "outputs": [],
   "source": [
    "errors = [pred_data_traj[i] - x_dataset[i][:(steps+1), :] for i in range(len(pred_data_traj))]\n",
    "\n",
    "# Calculate the norm of the error for each element\n",
    "error_norms = [np.linalg.norm(errors[i], axis=1) for i in range(len(errors))]\n",
    "\n",
    "# Calculate the norm of the original data for each element\n",
    "data_norms = [np.linalg.norm(x_dataset[i][:(steps+1), :]) for i in range(len(x_dataset))]\n",
    "\n",
    "\n",
    "# Calculate the ratio of the error norm to the data norm for each element\n",
    "relative_errors = [error_norms[i] / data_norms[i] for i in range(len(errors))]\n",
    "\n",
    "# Calculate the mean and standard deviation of the relative errors for each element\n",
    "mean_relative_errors = np.mean(relative_errors, axis=0)\n",
    "std_relative_errors = np.std(relative_errors, axis=0)"
   ]
  },
  {
   "cell_type": "code",
   "execution_count": 170,
   "id": "3f1a824b",
   "metadata": {},
   "outputs": [
    {
     "data": {
      "image/png": "[encoded data removed]",
      "text/plain": [
       "<Figure size 1000x600 with 1 Axes>"
      ]
     },
     "metadata": {},
     "output_type": "display_data"
    }
   ],
   "source": [
    "# Plot the relative error with error bars\n",
    "plt.figure(figsize=(10, 6))\n",
    "plt.errorbar(range(steps+1), mean_relative_errors, yerr=std_relative_errors, fmt='-o')\n",
    "plt.xlabel('Index')\n",
    "plt.ylabel('Relative Error')\n",
    "plt.title('Relative Error with Error Bars')\n",
    "plt.grid(True)\n",
    "plt.show()"
   ]
  },
  {
   "cell_type": "code",
   "execution_count": 171,
   "id": "a021a370",
   "metadata": {},
   "outputs": [
    {
     "name": "stdout",
     "output_type": "stream",
     "text": [
      "1.003281625668474\n",
      "0.0053140134398373985\n"
     ]
    }
   ],
   "source": [
    "domain_error_norms = [np.linalg.norm(errors[i]) for i in range(len(x_dataset))]\n",
    "domain_relative_error = [domain_error_norms[i]/data_norms[i] for i in range(len(domain_error_norms))]\n",
    "\n",
    "print(np.mean(domain_relative_error))\n",
    "print(np.std(domain_relative_error))"
   ]
  },
  {
   "cell_type": "code",
   "execution_count": 172,
   "id": "472d8968",
   "metadata": {},
   "outputs": [
    {
     "data": {
      "text/plain": [
       "0.005872207351469011"
      ]
     },
     "execution_count": 172,
     "metadata": {},
     "output_type": "execute_result"
    }
   ],
   "source": [
    "mean_relative_errors[1]"
   ]
  },
  {
   "cell_type": "code",
   "execution_count": 235,
   "id": "31b3dd80",
   "metadata": {},
   "outputs": [],
   "source": [
    "steps = 1\n",
    "x = x_dataset[0]\n",
    "u = u_dataset[0]"
   ]
  },
  {
   "cell_type": "code",
   "execution_count": 255,
   "id": "5e109ed6",
   "metadata": {},
   "outputs": [],
   "source": [
    "diff_abs = []\n",
    "for i in range(x_data.shape[0]):\n",
    "    x = x_data[i:i+1, :]\n",
    "    y = y_data[i:i+1, :]\n",
    "    u = u_data[i:i+1, :]\n",
    "    x_pred_traj = Hybridpredictor(x[0,:], u, steps, model_predict, model_correction, scaler_x, scaler_x, scaler_e, scaler_u)\n",
    "    diff_abs.append(np.abs(y.flatten()-x_pred_traj[1].flatten))\n",
    "    "
   ]
  },
  {
   "cell_type": "code",
   "execution_count": 256,
   "id": "9cffa2f2",
   "metadata": {},
   "outputs": [
    {
     "data": {
      "text/plain": [
       "(6957,)"
      ]
     },
     "execution_count": 256,
     "metadata": {},
     "output_type": "execute_result"
    }
   ],
   "source": [
    "abs_diff = np.abs(x[2] - x_pred_traj[1].flatten())\n",
    "abs_diff.shape"
   ]
  },
  {
   "cell_type": "code",
   "execution_count": 257,
   "id": "4c1645fc",
   "metadata": {},
   "outputs": [
    {
     "data": {
      "text/plain": [
       "array([8.31025442e-04, 7.51429755e-05, 1.62930804e-05, ...,\n",
       "       6.94925222e-05, 1.00931667e-04, 6.37449981e-04])"
      ]
     },
     "execution_count": 257,
     "metadata": {},
     "output_type": "execute_result"
    }
   ],
   "source": [
    "abs_diff"
   ]
  },
  {
   "cell_type": "code",
   "execution_count": 258,
   "id": "2e1d2c75",
   "metadata": {},
   "outputs": [
    {
     "data": {
      "image/png": "[encoded data removed]",
      "text/plain": [
       "<Figure size 640x480 with 1 Axes>"
      ]
     },
     "metadata": {},
     "output_type": "display_data"
    }
   ],
   "source": [
    "import numpy as np\n",
    "import matplotlib.pyplot as plt\n",
    "\n",
    "plt.hist(abs_diff, bins=30, alpha=0.7, color='blue')\n",
    "plt.title('Distribution of Absolute Differences')\n",
    "plt.xlabel('Absolute Difference')\n",
    "plt.ylabel('Frequency')\n",
    "plt.show()\n"
   ]
  },
  {
   "cell_type": "code",
   "execution_count": 259,
   "id": "cd38bce5",
   "metadata": {},
   "outputs": [
    {
     "data": {
      "text/plain": [
       "(6957,)"
      ]
     },
     "execution_count": 259,
     "metadata": {},
     "output_type": "execute_result"
    }
   ],
   "source": [
    "abs_diff.shape"
   ]
  },
  {
   "cell_type": "code",
   "execution_count": 261,
   "id": "9abf0b86",
   "metadata": {},
   "outputs": [],
   "source": [
    "torch.save(model_predict.state_dict(), 'model_predict_weights.pth')\n",
    "torch.save(model_correction.state_dict(), 'model_correction_weights.pth')"
   ]
  },
  {
   "cell_type": "code",
   "execution_count": null,
   "id": "f736ce61",
   "metadata": {},
   "outputs": [],
   "source": []
  }
 ],
 "metadata": {
  "kernelspec": {
   "display_name": "Python [conda env:torch] *",
   "language": "python",
   "name": "conda-env-torch-py"
  },
  "language_info": {
   "codemirror_mode": {
    "name": "ipython",
    "version": 3
   },
   "file_extension": ".py",
   "mimetype": "text/x-python",
   "name": "python",
   "nbconvert_exporter": "python",
   "pygments_lexer": "ipython3",
   "version": "3.9.17"
  }
 },
 "nbformat": 4,
 "nbformat_minor": 5
}
