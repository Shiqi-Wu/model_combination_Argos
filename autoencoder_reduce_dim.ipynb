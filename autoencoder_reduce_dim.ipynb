{
 "cells": [
  {
   "cell_type": "code",
   "execution_count": 1,
   "metadata": {},
   "outputs": [
    {
     "data": {
      "text/html": [
       "<style type='text/css'>\n",
       ".CodeMirror{\n",
       "font-size: 22px;\n",
       "</style>\n"
      ],
      "text/plain": [
       "<IPython.core.display.HTML object>"
      ]
     },
     "metadata": {},
     "output_type": "display_data"
    }
   ],
   "source": [
    "%%html\n",
    "<style type='text/css'>\n",
    ".CodeMirror{\n",
    "font-size: 22px;\n",
    "</style>"
   ]
  },
  {
   "cell_type": "code",
   "execution_count": 2,
   "metadata": {},
   "outputs": [],
   "source": [
    "%load_ext autoreload\n",
    "%autoreload 2"
   ]
  },
  {
   "cell_type": "code",
   "execution_count": 3,
   "metadata": {},
   "outputs": [],
   "source": [
    "import os\n",
    "os.environ[\"CUDA_VISIBLE_DEVICES\"] = \"1\""
   ]
  },
  {
   "cell_type": "code",
   "execution_count": 15,
   "metadata": {},
   "outputs": [],
   "source": [
    "import numpy as np\n",
    "import torch\n",
    "from koopman_autoencoder import *"
   ]
  },
  {
   "cell_type": "code",
   "execution_count": 5,
   "metadata": {},
   "outputs": [],
   "source": [
    "if torch.cuda.is_available():\n",
    "    device = torch.device('cuda:3')\n",
    "else:\n",
    "    device = torch.device('cpu')"
   ]
  },
  {
   "cell_type": "markdown",
   "metadata": {},
   "source": [
    "## Load Dataset"
   ]
  },
  {
   "cell_type": "code",
   "execution_count": 6,
   "metadata": {},
   "outputs": [],
   "source": [
    "def build_dataset(data_dict):\n",
    "    time = []\n",
    "    data = []\n",
    "    I_p = []\n",
    "    for index, contents in data_dict.items():\n",
    "        time.append(contents['time'])\n",
    "        data.append(contents['data'])\n",
    "        I_p.append(contents['I_p'])\n",
    "    \n",
    "    data = np.array(data)\n",
    "    x_data = data[:-1,:]\n",
    "    y_data = data[1:,:]\n",
    "    dt_data = (time[1] - time[0]) * np.ones((data.shape[0] -1 , 1))\n",
    "    # I_p = np.reshape(np.array(I_p)[:-1], (-1,1))\n",
    "    u_data = np.concatenate((dt_data, np.reshape(np.array(I_p)[:-1], (-1,1)), np.reshape(np.array(I_p)[1:], (-1,1))), axis = 1)\n",
    "    return x_data, y_data, u_data"
   ]
  },
  {
   "cell_type": "code",
   "execution_count": 9,
   "metadata": {},
   "outputs": [
    {
     "name": "stdout",
     "output_type": "stream",
     "text": [
      "File not found: data/data_dict_25.npy\n",
      "File not found: data/data_dict_44.npy\n"
     ]
    }
   ],
   "source": [
    "import numpy as np\n",
    "import os\n",
    "\n",
    "x_dataset = []\n",
    "y_dataset = []\n",
    "u_dataset = []\n",
    "\n",
    "for suffix in range(10, 60):\n",
    "    data_file_path = '../data/data_dict_' + str(suffix) + '.npy'\n",
    "        \n",
    "    # Check if the file exists before trying to load it\n",
    "    if os.path.exists(data_file_path):\n",
    "        data_dict = np.load(data_file_path, allow_pickle=True).item()\n",
    "        x_data, y_data, u_data = build_dataset(data_dict)\n",
    "        x_dataset.append(x_data)\n",
    "        y_dataset.append(y_data)\n",
    "        u_dataset.append(u_data)\n",
    "    else:\n",
    "        print(f\"File not found: {data_file_path}\")\n"
   ]
  },
  {
   "cell_type": "code",
   "execution_count": 10,
   "metadata": {},
   "outputs": [
    {
     "data": {
      "text/plain": [
       "(7221, 6957)"
      ]
     },
     "execution_count": 10,
     "metadata": {},
     "output_type": "execute_result"
    }
   ],
   "source": [
    "x_data = np.concatenate(x_dataset, axis = 0)\n",
    "y_data = np.concatenate(y_dataset, axis = 0)\n",
    "u_data = np.concatenate(u_dataset, axis = 0)\n",
    "x_data.shape"
   ]
  },
  {
   "cell_type": "code",
   "execution_count": 11,
   "metadata": {},
   "outputs": [],
   "source": [
    "from sklearn.preprocessing import StandardScaler\n",
    "from sklearn.model_selection import train_test_split\n",
    "import numpy as np\n",
    "\n",
    "\n",
    "# Scaling the datasets\n",
    "scaler_x = StandardScaler().fit(x_data)\n",
    "scaler_u = StandardScaler().fit(u_data)\n",
    "\n",
    "x_data_scaled = scaler_x.transform(x_data)\n",
    "y_data_scaled = scaler_x.transform(y_data)\n",
    "u_data_scaled = scaler_u.transform(u_data)\n",
    "\n",
    "shuffled_indices = np.arange(len(x_data))\n",
    "np.random.shuffle(shuffled_indices)\n",
    "\n",
    "x_data_scaled = x_data_scaled[shuffled_indices]\n",
    "y_data_scaled = y_data_scaled[shuffled_indices]\n",
    "u_data_scaled = u_data_scaled[shuffled_indices]\n",
    "\n",
    "x_train, x_test = train_test_split(x_data_scaled, test_size=0.2, random_state=42)\n",
    "y_train, y_test = train_test_split(y_data_scaled, test_size=0.2, random_state=42)\n",
    "u_train, u_test = train_test_split(u_data_scaled, test_size=0.2, random_state=42)\n"
   ]
  },
  {
   "cell_type": "code",
   "execution_count": 13,
   "metadata": {},
   "outputs": [],
   "source": [
    "n_input = x_data.shape[1]\n",
    "layer_sizes_dic = [64, 64, 128]\n",
    "layer_sizes_m = [64, 128, 64, 64]\n",
    "\n",
    "n_psi_train = 128\n",
    "u_dim = 3"
   ]
  },
  {
   "cell_type": "code",
   "execution_count": 17,
   "metadata": {},
   "outputs": [
    {
     "ename": "NameError",
     "evalue": "name 'koopman_autoencoder' is not defined",
     "output_type": "error",
     "traceback": [
      "\u001b[0;31m---------------------------------------------------------------------------\u001b[0m",
      "\u001b[0;31mNameError\u001b[0m                                 Traceback (most recent call last)",
      "Cell \u001b[0;32mIn[17], line 1\u001b[0m\n\u001b[0;32m----> 1\u001b[0m model_NN \u001b[38;5;241m=\u001b[39m \u001b[43mkoopman_autoencoder\u001b[49m\u001b[38;5;241m.\u001b[39mBuildNonlinearModel(n_input, layer_sizes_dic, layer_sizes_m, n_psi_train, u_dim)\n",
      "\u001b[0;31mNameError\u001b[0m: name 'koopman_autoencoder' is not defined"
     ]
    }
   ],
   "source": [
    "import koopman_autoencoder\n",
    "model_NN = koopman_autoencoder.BuildNonlinearModel(n_input, layer_sizes_dic, layer_sizes_m, n_psi_train, u_dim)"
   ]
  },
  {
   "cell_type": "code",
   "execution_count": null,
   "metadata": {},
   "outputs": [],
   "source": []
  },
  {
   "cell_type": "code",
   "execution_count": 12,
   "metadata": {},
   "outputs": [
    {
     "ename": "NameError",
     "evalue": "name 'model_koopman' is not defined",
     "output_type": "error",
     "traceback": [
      "\u001b[0;31m---------------------------------------------------------------------------\u001b[0m",
      "\u001b[0;31mNameError\u001b[0m                                 Traceback (most recent call last)",
      "Cell \u001b[0;32mIn[12], line 21\u001b[0m\n\u001b[1;32m     18\u001b[0m data_loader \u001b[38;5;241m=\u001b[39m DataLoader(dataset, batch_size\u001b[38;5;241m=\u001b[39m\u001b[38;5;241m64\u001b[39m, shuffle\u001b[38;5;241m=\u001b[39m\u001b[38;5;28;01mTrue\u001b[39;00m)\n\u001b[1;32m     20\u001b[0m \u001b[38;5;66;03m# Define the optimizer\u001b[39;00m\n\u001b[0;32m---> 21\u001b[0m optimizer \u001b[38;5;241m=\u001b[39m Adam(\u001b[38;5;28mlist\u001b[39m(\u001b[43mmodel_koopman\u001b[49m\u001b[38;5;241m.\u001b[39mparameters()) \u001b[38;5;241m+\u001b[39m \n\u001b[1;32m     22\u001b[0m                        \u001b[38;5;28mlist\u001b[39m(model_inv_psi\u001b[38;5;241m.\u001b[39mparameters()), lr\u001b[38;5;241m=\u001b[39m\u001b[38;5;241m0.0001\u001b[39m)\n\u001b[1;32m     23\u001b[0m \u001b[38;5;66;03m# scheduler = StepLR(optimizer, step_size=200, gamma=0.1)\u001b[39;00m\n\u001b[1;32m     25\u001b[0m mse_loss \u001b[38;5;241m=\u001b[39m nn\u001b[38;5;241m.\u001b[39mMSELoss()\n",
      "\u001b[0;31mNameError\u001b[0m: name 'model_koopman' is not defined"
     ]
    }
   ],
   "source": [
    "import torch\n",
    "from torch.optim import Adam\n",
    "from torch.utils.data import DataLoader, TensorDataset\n",
    "from torch.optim.lr_scheduler import StepLR\n",
    "\n",
    "\n",
    "x_train = torch.tensor(x_train, dtype=torch.float32)\n",
    "y_train = torch.tensor(y_train, dtype=torch.float32)\n",
    "u_train = torch.tensor(u_train, dtype=torch.float32)\n",
    "x_test = torch.tensor(x_test, dtype=torch.float32)\n",
    "y_test = torch.tensor(y_test, dtype=torch.float32)\n",
    "u_test = torch.tensor(u_test, dtype=torch.float32)\n",
    "\n",
    "# Create a dataset\n",
    "dataset = TensorDataset(x_train, y_train, u_train)\n",
    "\n",
    "# Create a data loader\n",
    "data_loader = DataLoader(dataset, batch_size=64, shuffle=True)\n",
    "\n",
    "# Define the optimizer\n",
    "optimizer = Adam(list(model_koopman.parameters()) + \n",
    "                       list(model_inv_psi.parameters()), lr=0.0001)\n",
    "# scheduler = StepLR(optimizer, step_size=200, gamma=0.1)\n",
    "\n",
    "mse_loss = nn.MSELoss()\n",
    "\n",
    "lambda_1 = 1.0\n",
    "lambda_2 = 1.0\n",
    "lambda_3 = 1.0\n"
   ]
  },
  {
   "cell_type": "code",
   "execution_count": null,
   "metadata": {},
   "outputs": [],
   "source": []
  }
 ],
 "metadata": {
  "kernelspec": {
   "display_name": "torch",
   "language": "python",
   "name": "python3"
  },
  "language_info": {
   "codemirror_mode": {
    "name": "ipython",
    "version": 3
   },
   "file_extension": ".py",
   "mimetype": "text/x-python",
   "name": "python",
   "nbconvert_exporter": "python",
   "pygments_lexer": "ipython3",
   "version": "3.9.17"
  }
 },
 "nbformat": 4,
 "nbformat_minor": 2
}
