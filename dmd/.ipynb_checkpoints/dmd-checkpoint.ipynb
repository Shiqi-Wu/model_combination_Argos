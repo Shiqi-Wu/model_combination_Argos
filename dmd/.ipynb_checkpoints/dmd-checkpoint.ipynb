{
 "cells": [
  {
   "cell_type": "code",
   "execution_count": 1,
   "id": "b24c1d6e",
   "metadata": {},
   "outputs": [
    {
     "data": {
      "text/html": [
       "<style type='text/css'>\n",
       ".CodeMirror{\n",
       "font-size: 22px;\n",
       "</style>\n"
      ],
      "text/plain": [
       "<IPython.core.display.HTML object>"
      ]
     },
     "metadata": {},
     "output_type": "display_data"
    }
   ],
   "source": [
    "%%html\n",
    "<style type='text/css'>\n",
    ".CodeMirror{\n",
    "font-size: 22px;\n",
    "</style>"
   ]
  },
  {
   "cell_type": "code",
   "execution_count": 2,
   "id": "af552187",
   "metadata": {},
   "outputs": [],
   "source": [
    "%load_ext autoreload\n",
    "%autoreload 2"
   ]
  },
  {
   "cell_type": "code",
   "execution_count": 3,
   "id": "ac54e73d",
   "metadata": {},
   "outputs": [],
   "source": [
    "import numpy as np\n",
    "import torch"
   ]
  },
  {
   "cell_type": "code",
   "execution_count": 4,
   "id": "a986164c",
   "metadata": {},
   "outputs": [],
   "source": [
    "if torch.cuda.is_available():\n",
    "    device = torch.device('cuda:3')\n",
    "else:\n",
    "    device = torch.device('cpu')"
   ]
  },
  {
   "cell_type": "markdown",
   "id": "73298ee5",
   "metadata": {},
   "source": [
    "## Load dataset"
   ]
  },
  {
   "cell_type": "code",
   "execution_count": 5,
   "id": "e70cf681",
   "metadata": {},
   "outputs": [],
   "source": [
    "def build_dataset(data_dict):\n",
    "    time = []\n",
    "    data = []\n",
    "    I_p = []\n",
    "    for index, contents in data_dict.items():\n",
    "        time.append(contents['time'])\n",
    "        data.append(contents['data'])\n",
    "        I_p.append(contents['I_p'])\n",
    "    \n",
    "    data = np.array(data)\n",
    "    x_data = data[:-1,:]\n",
    "    y_data = data[1:,:]\n",
    "    dt_data = (time[1] - time[0]) * np.ones((data.shape[0] -1 , 1))\n",
    "    I_p = np.reshape(np.array(I_p)[:-1], (-1,1))\n",
    "    u_data = np.concatenate((dt_data, I_p), axis = 1)\n",
    "    return x_data, y_data, u_data"
   ]
  },
  {
   "cell_type": "code",
   "execution_count": 6,
   "id": "2a264c48",
   "metadata": {},
   "outputs": [
    {
     "name": "stdout",
     "output_type": "stream",
     "text": [
      "File not found: ../data/data_dict_25.npy\n",
      "File not found: ../data/data_dict_44.npy\n"
     ]
    }
   ],
   "source": [
    "import numpy as np\n",
    "import os\n",
    "\n",
    "x_dataset = []\n",
    "y_dataset = []\n",
    "u_dataset = []\n",
    "\n",
    "for suffix in range(10, 60):\n",
    "    data_file_path = '../data/data_dict_' + str(suffix) + '.npy'\n",
    "        \n",
    "    # Check if the file exists before trying to load it\n",
    "    if os.path.exists(data_file_path):\n",
    "        data_dict = np.load(data_file_path, allow_pickle=True).item()\n",
    "        x_data, y_data, u_data = build_dataset(data_dict)\n",
    "        x_dataset.append(x_data)\n",
    "        y_dataset.append(y_data)\n",
    "        u_dataset.append(u_data)\n",
    "    else:\n",
    "        print(f\"File not found: {data_file_path}\")\n"
   ]
  },
  {
   "cell_type": "code",
   "execution_count": 13,
   "id": "95b74ce8",
   "metadata": {},
   "outputs": [
    {
     "data": {
      "text/plain": [
       "(7221, 6957)"
      ]
     },
     "execution_count": 13,
     "metadata": {},
     "output_type": "execute_result"
    }
   ],
   "source": [
    "x_data = np.concatenate(x_dataset, axis = 0)\n",
    "y_data = np.concatenate(y_dataset, axis = 0)\n",
    "u_data = np.concatenate(u_dataset, axis = 0)\n",
    "dt = u_data[:,0:1]\n",
    "Ip = u_data[:,1:2]\n",
    "x_data.shape"
   ]
  },
  {
   "cell_type": "code",
   "execution_count": 17,
   "id": "56b13e04",
   "metadata": {},
   "outputs": [],
   "source": [
    "x_data_dt = x_data * dt\n",
    "Ip_dt = Ip * dt\n",
    "X = np.hstack([x_data_dt, Ip_dt])\n",
    "K_B, _, _, _ = np.linalg.lstsq(X, y_data - x_data, rcond=None)\n",
    "num_features_x = x_data.shape[1]\n",
    "K = K_B[:num_features_x, :]\n",
    "B = K_B[num_features_x:, :]"
   ]
  },
  {
   "cell_type": "code",
   "execution_count": 18,
   "id": "b886bd10",
   "metadata": {},
   "outputs": [
    {
     "data": {
      "text/plain": [
       "(1, 6957)"
      ]
     },
     "execution_count": 18,
     "metadata": {},
     "output_type": "execute_result"
    }
   ],
   "source": [
    "B.shape"
   ]
  },
  {
   "cell_type": "code",
   "execution_count": 19,
   "id": "c1ad7450",
   "metadata": {},
   "outputs": [],
   "source": [
    "def dmd_predictor(initial_data, u_data, steps, S, U, VT, B):\n",
    "    data_traj = []\n",
    "    \n",
    "    initial_data = initial_data.reshape((1, -1))\n",
    "    \n",
    "    x = initial_data\n",
    "    \n",
    "    data_traj.append(x)\n",
    "    \n",
    "    I = np.eye(x.shape[1])\n",
    "    \n",
    "    for step in range(steps):\n",
    "        u = u_data[step,:]\n",
    "        x = x + x @ (I + u[0] * U @ S @ VT) + u[0] * u[1] * B\n",
    "        data_traj.append(x)\n",
    "    return data_traj\n"
   ]
  },
  {
   "cell_type": "code",
   "execution_count": 26,
   "id": "13417e87",
   "metadata": {},
   "outputs": [],
   "source": [
    "U, S, VT = np.linalg.svd(K)"
   ]
  },
  {
   "cell_type": "code",
   "execution_count": 46,
   "id": "92d0cfc4",
   "metadata": {},
   "outputs": [
    {
     "data": {
      "text/plain": [
       "array([7.86040617e+11, 2.85307036e+11, 6.08082476e+10, 2.61795482e+10,\n",
       "       2.55157044e+10, 2.25330377e+10, 1.29792595e+10, 1.00999143e+10,\n",
       "       9.37822399e+09, 5.91347703e+09])"
      ]
     },
     "execution_count": 46,
     "metadata": {},
     "output_type": "execute_result"
    }
   ],
   "source": [
    "S[:10]"
   ]
  },
  {
   "cell_type": "code",
   "execution_count": 49,
   "id": "30b54f31",
   "metadata": {},
   "outputs": [
    {
     "data": {
      "text/plain": [
       "50"
      ]
     },
     "execution_count": 49,
     "metadata": {},
     "output_type": "execute_result"
    }
   ],
   "source": [
    "S_reduce = [S[i] for i in range(len(S)) if S[i] > 1e7]\n",
    "U_reduce = U[:, :len(S_reduce)]\n",
    "VT_reduce = VT[:len(S_reduce),:]\n",
    "len(S_reduce)"
   ]
  },
  {
   "cell_type": "code",
   "execution_count": 23,
   "id": "2b7433b4",
   "metadata": {},
   "outputs": [
    {
     "ename": "KeyboardInterrupt",
     "evalue": "",
     "output_type": "error",
     "traceback": [
      "\u001b[0;31m---------------------------------------------------------------------------\u001b[0m",
      "\u001b[0;31mKeyboardInterrupt\u001b[0m                         Traceback (most recent call last)",
      "Cell \u001b[0;32mIn[23], line 7\u001b[0m\n\u001b[1;32m      5\u001b[0m pred_data_traj \u001b[38;5;241m=\u001b[39m []\n\u001b[1;32m      6\u001b[0m \u001b[38;5;28;01mfor\u001b[39;00m x, u \u001b[38;5;129;01min\u001b[39;00m \u001b[38;5;28mzip\u001b[39m(x_dataset, u_dataset):\n\u001b[0;32m----> 7\u001b[0m     x_pred_traj \u001b[38;5;241m=\u001b[39m \u001b[43mdmd_predictor\u001b[49m\u001b[43m(\u001b[49m\u001b[43mx\u001b[49m\u001b[43m[\u001b[49m\u001b[38;5;241;43m0\u001b[39;49m\u001b[43m,\u001b[49m\u001b[43m \u001b[49m\u001b[43m:\u001b[49m\u001b[43m]\u001b[49m\u001b[43m,\u001b[49m\u001b[43m \u001b[49m\u001b[43mu\u001b[49m\u001b[43m,\u001b[49m\u001b[43m \u001b[49m\u001b[43msteps\u001b[49m\u001b[43m,\u001b[49m\u001b[43m \u001b[49m\u001b[43mK\u001b[49m\u001b[43m,\u001b[49m\u001b[43m \u001b[49m\u001b[43mB\u001b[49m\u001b[43m)\u001b[49m    \n\u001b[1;32m      8\u001b[0m     pred_data_traj\u001b[38;5;241m.\u001b[39mappend(x_pred_traj)\n",
      "Cell \u001b[0;32mIn[19], line 14\u001b[0m, in \u001b[0;36mdmd_predictor\u001b[0;34m(initial_data, u_data, steps, K, B)\u001b[0m\n\u001b[1;32m     12\u001b[0m \u001b[38;5;28;01mfor\u001b[39;00m step \u001b[38;5;129;01min\u001b[39;00m \u001b[38;5;28mrange\u001b[39m(steps):\n\u001b[1;32m     13\u001b[0m     u \u001b[38;5;241m=\u001b[39m u_data[step,:]\n\u001b[0;32m---> 14\u001b[0m     x \u001b[38;5;241m=\u001b[39m x \u001b[38;5;241m+\u001b[39m x \u001b[38;5;241m@\u001b[39m (I \u001b[38;5;241m+\u001b[39m \u001b[43mu\u001b[49m\u001b[43m[\u001b[49m\u001b[38;5;241;43m0\u001b[39;49m\u001b[43m]\u001b[49m\u001b[43m \u001b[49m\u001b[38;5;241;43m*\u001b[39;49m\u001b[43m \u001b[49m\u001b[43mK\u001b[49m) \u001b[38;5;241m+\u001b[39m u[\u001b[38;5;241m0\u001b[39m] \u001b[38;5;241m*\u001b[39m u[\u001b[38;5;241m1\u001b[39m] \u001b[38;5;241m*\u001b[39m B\n\u001b[1;32m     15\u001b[0m     data_traj\u001b[38;5;241m.\u001b[39mappend(x)\n\u001b[1;32m     16\u001b[0m \u001b[38;5;28;01mreturn\u001b[39;00m data_traj\n",
      "\u001b[0;31mKeyboardInterrupt\u001b[0m: "
     ]
    }
   ],
   "source": [
    "import numpy as np\n",
    "import torch\n",
    "steps = 50\n",
    "\n",
    "pred_data_traj = []\n",
    "for x, u in zip(x_dataset, u_dataset):\n",
    "    print(i)\n",
    "    x_pred_traj = dmd_predictor(x[0, :], u, steps, S_reduce, U_reduce, VT_reduce, B)    \n",
    "    pred_data_traj.append(x_pred_traj)"
   ]
  },
  {
   "cell_type": "code",
   "execution_count": null,
   "id": "0b6e581f",
   "metadata": {},
   "outputs": [],
   "source": [
    "errors = [pred_data_traj[i] - x_dataset[i][:51, :] for i in range(len(pred_data_traj))]\n",
    "\n",
    "# Calculate the norm of the error for each element\n",
    "error_norms = [np.linalg.norm(errors[i], axis=1) for i in range(len(errors))]\n",
    "\n",
    "# Calculate the norm of the original data for each element\n",
    "data_norms = [np.linalg.norm(x_dataset[i]) for i in range(len(x_dataset))]\n",
    "\n",
    "\n",
    "# Calculate the ratio of the error norm to the data norm for each element\n",
    "relative_errors = [error_norms[i] / data_norms[i] for i in range(len(errors))]\n",
    "\n",
    "# Calculate the mean and standard deviation of the relative errors for each element\n",
    "mean_relative_errors = np.mean(relative_errors, axis=0)\n",
    "std_relative_errors = np.std(relative_errors, axis=0)"
   ]
  },
  {
   "cell_type": "code",
   "execution_count": null,
   "id": "ac5601a7",
   "metadata": {},
   "outputs": [],
   "source": [
    "# Plot the relative error with error bars\n",
    "plt.figure(figsize=(10, 6))\n",
    "plt.errorbar(range(51), mean_relative_errors, yerr=std_relative_errors, fmt='o')\n",
    "plt.xlabel('Index')\n",
    "plt.ylabel('Relative Error')\n",
    "plt.title('Relative Error with Error Bars')\n",
    "plt.grid(True)\n",
    "plt.show()"
   ]
  },
  {
   "cell_type": "code",
   "execution_count": null,
   "id": "dd373a91",
   "metadata": {},
   "outputs": [],
   "source": [
    "domain_error_norms = [np.linalg.norm(errors[i]) for i in range(len(x_dataset))]\n",
    "domain_relative_error = [domain_error_norms[i]/data_norms[i] for i in range(len(domain_error_norms))]"
   ]
  },
  {
   "cell_type": "code",
   "execution_count": null,
   "id": "ad2fc626",
   "metadata": {},
   "outputs": [],
   "source": [
    "np.mean(domain_relative_error)"
   ]
  },
  {
   "cell_type": "code",
   "execution_count": null,
   "id": "59339b0b",
   "metadata": {},
   "outputs": [],
   "source": [
    "np.std(domain_relative_error)"
   ]
  },
  {
   "cell_type": "code",
   "execution_count": null,
   "id": "c148674a",
   "metadata": {},
   "outputs": [],
   "source": []
  }
 ],
 "metadata": {
  "kernelspec": {
   "display_name": "Python [conda env:torch] *",
   "language": "python",
   "name": "conda-env-torch-py"
  },
  "language_info": {
   "codemirror_mode": {
    "name": "ipython",
    "version": 3
   },
   "file_extension": ".py",
   "mimetype": "text/x-python",
   "name": "python",
   "nbconvert_exporter": "python",
   "pygments_lexer": "ipython3",
   "version": "3.9.17"
  }
 },
 "nbformat": 4,
 "nbformat_minor": 5
}
